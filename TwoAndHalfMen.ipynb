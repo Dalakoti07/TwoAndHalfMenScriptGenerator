{
  "nbformat": 4,
  "nbformat_minor": 0,
  "metadata": {
    "kernelspec": {
      "name": "python3",
      "display_name": "Python 3"
    },
    "language_info": {
      "codemirror_mode": {
        "name": "ipython",
        "version": 3
      },
      "file_extension": ".py",
      "mimetype": "text/x-python",
      "name": "python",
      "nbconvert_exporter": "python",
      "pygments_lexer": "ipython3",
      "version": "3.6.8"
    },
    "widgets": {
      "state": {},
      "version": "1.1.2"
    },
    "colab": {
      "name": "dlnd_tv_script_generation.ipynb",
      "provenance": []
    },
    "accelerator": "GPU"
  },
  "cells": [
    {
      "cell_type": "markdown",
      "metadata": {
        "id": "q29LIRbeRieH",
        "colab_type": "text"
      },
      "source": [
        "# TV Script Generation\n",
        "In this project, you'll generate your own [Simpsons](https://en.wikipedia.org/wiki/The_Simpsons) TV scripts using RNNs.  You'll be using part of the [Simpsons dataset](https://www.kaggle.com/wcukierski/the-simpsons-by-the-data) of scripts from 27 seasons.  The Neural Network you'll build will generate a new TV script for a scene at [Moe's Tavern](https://simpsonswiki.com/wiki/Moe's_Tavern).\n",
        "## Get the Data\n",
        "The data is already provided for you.  You'll be using a subset of the original dataset.  It consists of only the scenes in Moe's Tavern.  This doesn't include other versions of the tavern, like \"Moe's Cavern\", \"Flaming Moe's\", \"Uncle Moe's Family Feed-Bag\", etc.."
      ]
    },
    {
      "cell_type": "code",
      "metadata": {
        "id": "YLqNf6GkSMeX",
        "colab_type": "code",
        "colab": {
          "base_uri": "https://localhost:8080/",
          "height": 34
        },
        "outputId": "d099b4b4-2007-475e-edbf-f6d19e6fb642"
      },
      "source": [
        "import os\n",
        "from google.colab import drive\n",
        "drive.mount('/content/gdrive', force_remount=True)\n",
        "root_dir = \"/content/gdrive/My Drive/\"\n",
        "base_dir = root_dir + 'ML dataSets/TV Scripting/'\n",
        "os.chdir(base_dir)"
      ],
      "execution_count": 45,
      "outputs": [
        {
          "output_type": "stream",
          "text": [
            "Mounted at /content/gdrive\n"
          ],
          "name": "stdout"
        }
      ]
    },
    {
      "cell_type": "code",
      "metadata": {
        "id": "M42pO82cRieP",
        "colab_type": "code",
        "colab": {}
      },
      "source": [
        "import pickle\n",
        "from collections import Counter"
      ],
      "execution_count": 0,
      "outputs": []
    },
    {
      "cell_type": "code",
      "metadata": {
        "id": "mylufkiMRieW",
        "colab_type": "code",
        "colab": {}
      },
      "source": [
        "def load_data(path):\n",
        "    \"\"\"\n",
        "    Load Dataset from File\n",
        "    \"\"\"\n",
        "    input_file = os.path.join(path)\n",
        "    with open(input_file, \"r\",encoding=\"utf-8\") as f:\n",
        "        data = f.read()\n",
        "\n",
        "    return data"
      ],
      "execution_count": 0,
      "outputs": []
    },
    {
      "cell_type": "code",
      "metadata": {
        "id": "LE31MT8IRiei",
        "colab_type": "code",
        "colab": {}
      },
      "source": [
        "def preprocess_and_save_data(dataset_path, token_lookup, create_lookup_tables):\n",
        "    \"\"\"\n",
        "    Preprocess Text Data\n",
        "    \"\"\"\n",
        "    text = load_data(dataset_path)\n",
        "    \n",
        "    # Ignore notice, since we don't use it for analysing the data\n",
        "#     text = text[81:]\n",
        "\n",
        "    token_dict = token_lookup()\n",
        "    for key, token in token_dict.items():\n",
        "        text = text.replace(key, ' {} '.format(token))\n",
        "\n",
        "    text = text.lower()\n",
        "    text = text.split()\n",
        "\n",
        "    vocab_to_int, int_to_vocab = create_lookup_tables(text)\n",
        "    int_text = [vocab_to_int[word] for word in text]\n",
        "    pickle.dump((int_text, vocab_to_int, int_to_vocab, token_dict), open('preprocess.p', 'wb'))"
      ],
      "execution_count": 0,
      "outputs": []
    },
    {
      "cell_type": "code",
      "metadata": {
        "id": "LKykhyq8Rieo",
        "colab_type": "code",
        "colab": {}
      },
      "source": [
        "def load_preprocess():\n",
        "    \"\"\"\n",
        "    Load the Preprocessed Training data and return them in batches of <batch_size> or less\n",
        "    \"\"\"\n",
        "    return pickle.load(open('preprocess.p', mode='rb'))\n",
        "\n",
        "\n",
        "def save_params(params):\n",
        "    \"\"\"\n",
        "    Save parameters to file\n",
        "    \"\"\"\n",
        "    pickle.dump(params, open('params.p', 'wb'))\n",
        "\n",
        "\n",
        "def load_params():\n",
        "    \"\"\"\n",
        "    Load parameters from file\n",
        "    \"\"\"\n",
        "    return pickle.load(open('params.p', mode='rb'))"
      ],
      "execution_count": 0,
      "outputs": []
    },
    {
      "cell_type": "code",
      "metadata": {
        "id": "Op7zINFnTOnd",
        "colab_type": "code",
        "colab": {
          "base_uri": "https://localhost:8080/",
          "height": 34
        },
        "outputId": "6f7106b5-865b-4fd4-b090-46945b3dcaa0"
      },
      "source": [
        "os.getcwd()"
      ],
      "execution_count": 50,
      "outputs": [
        {
          "output_type": "execute_result",
          "data": {
            "text/plain": [
              "'/content/gdrive/My Drive/ML dataSets/TV Scripting'"
            ]
          },
          "metadata": {
            "tags": []
          },
          "execution_count": 50
        }
      ]
    },
    {
      "cell_type": "code",
      "metadata": {
        "id": "oISP0DmoRiew",
        "colab_type": "code",
        "colab": {}
      },
      "source": [
        "\"\"\"\n",
        "DON'T MODIFY ANYTHING IN THIS CELL\n",
        "\"\"\"\n",
        "# import helper\n",
        "\n",
        "data_dir = 'scripts-utf-8.txt'\n",
        "text = load_data(base_dir+data_dir)\n",
        "# Ignore notice, since we don't use it for analysing the data\n",
        "# text = text[81:]"
      ],
      "execution_count": 0,
      "outputs": []
    },
    {
      "cell_type": "code",
      "metadata": {
        "id": "XdocMzWxTXCx",
        "colab_type": "code",
        "colab": {
          "base_uri": "https://localhost:8080/",
          "height": 34
        },
        "outputId": "4524f283-c1a3-4780-fa98-57670d50a0f2"
      },
      "source": [
        "len(text.split())"
      ],
      "execution_count": 54,
      "outputs": [
        {
          "output_type": "execute_result",
          "data": {
            "text/plain": [
              "182107"
            ]
          },
          "metadata": {
            "tags": []
          },
          "execution_count": 54
        }
      ]
    },
    {
      "cell_type": "markdown",
      "metadata": {
        "id": "jLm_LoThRiez",
        "colab_type": "text"
      },
      "source": [
        "## Explore the Data\n",
        "Play around with `view_sentence_range` to view different parts of the data."
      ]
    },
    {
      "cell_type": "code",
      "metadata": {
        "id": "8pJW58f1Rie1",
        "colab_type": "code",
        "colab": {
          "base_uri": "https://localhost:8080/",
          "height": 319
        },
        "outputId": "3d7224f2-1bbf-4c07-9e51-52e0fae5b52f"
      },
      "source": [
        "view_sentence_range = (0, 10)\n",
        "\n",
        "\"\"\"\n",
        "DON'T MODIFY ANYTHING IN THIS CELL\n",
        "\"\"\"\n",
        "import numpy as np\n",
        "\n",
        "print('Dataset Stats')\n",
        "print('Roughly the number of unique words: {}'.format(len({word: None for word in text.split()})))\n",
        "scenes = text.split('\\n\\n')\n",
        "print('Number of scenes: {}'.format(len(scenes)))\n",
        "sentence_count_scene = [scene.count('\\n') for scene in scenes]\n",
        "print('Average number of sentences in each scene: {}'.format(np.average(sentence_count_scene)))\n",
        "\n",
        "sentences = [sentence for scene in scenes for sentence in scene.split('\\n')]\n",
        "print('Number of lines: {}'.format(len(sentences)))\n",
        "word_count_sentence = [len(sentence.split()) for sentence in sentences]\n",
        "print('Average number of words in each line: {}'.format(np.average(word_count_sentence)))\n",
        "\n",
        "print()\n",
        "print('The sentences {} to {}:'.format(*view_sentence_range))\n",
        "print('\\n'.join(text.split('\\n')[view_sentence_range[0]:view_sentence_range[1]]))"
      ],
      "execution_count": 55,
      "outputs": [
        {
          "output_type": "stream",
          "text": [
            "Dataset Stats\n",
            "Roughly the number of unique words: 17329\n",
            "Number of scenes: 316\n",
            "Average number of sentences in each scene: 27.29746835443038\n",
            "Number of lines: 8942\n",
            "Average number of words in each line: 20.365354506821742\n",
            "\n",
            "The sentences 0 to 10:\n",
            "\n",
            "\n",
            "\n",
            "\n",
            "\n",
            "\n",
            "                    \t\t\t- So, what do you think? - Wow.\n",
            " It's for you, right? It's for both of us.\n",
            " Don't go away.\n",
            " Don't worry.\n"
          ],
          "name": "stdout"
        }
      ]
    },
    {
      "cell_type": "markdown",
      "metadata": {
        "id": "E88fQ7b6Rie9",
        "colab_type": "text"
      },
      "source": [
        "## Implement Preprocessing Functions\n",
        "The first thing to do to any dataset is preprocessing.  Implement the following preprocessing functions below:\n",
        "- Lookup Table\n",
        "- Tokenize Punctuation\n",
        "\n",
        "### Lookup Table\n",
        "To create a word embedding, you first need to transform the words to ids.  In this function, create two dictionaries:\n",
        "- Dictionary to go from the words to an id, we'll call `vocab_to_int`\n",
        "- Dictionary to go from the id to word, we'll call `int_to_vocab`\n",
        "\n",
        "Return these dictionaries in the following tuple `(vocab_to_int, int_to_vocab)`"
      ]
    },
    {
      "cell_type": "code",
      "metadata": {
        "id": "9-3VWTOQRie_",
        "colab_type": "code",
        "colab": {
          "base_uri": "https://localhost:8080/",
          "height": 34
        },
        "outputId": "d1058bb0-8878-4ee9-fccf-985d6433e745"
      },
      "source": [
        "import numpy as np\n",
        "# import problem_unittests as tests\n",
        "\n",
        "def create_lookup_tables(text):\n",
        "    \"\"\"\n",
        "    Create lookup tables for vocabulary\n",
        "    :param text: The text of tv scripts split into words\n",
        "    :return: A tuple of dicts (vocab_to_int, int_to_vocab)\n",
        "    \"\"\"\n",
        "    # TODO: Implement Function\n",
        "    word_counts = Counter(text)\n",
        "    sorted_vocab = sorted(word_counts, key=word_counts.get, reverse=True)\n",
        "    int_to_vocab = {i: word for i, word in enumerate(sorted_vocab)}\n",
        "    vocab_to_int = {word: i for i, word in int_to_vocab.items()}\n",
        "    return vocab_to_int, int_to_vocab\n",
        "\n",
        "\n",
        "\"\"\"\n",
        "DON'T MODIFY ANYTHING IN THIS CELL THAT IS BELOW THIS LINE\n",
        "\"\"\"\n",
        "# tests.test_create_lookup_tables(create_lookup_tables)"
      ],
      "execution_count": 56,
      "outputs": [
        {
          "output_type": "execute_result",
          "data": {
            "text/plain": [
              "\"\\nDON'T MODIFY ANYTHING IN THIS CELL THAT IS BELOW THIS LINE\\n\""
            ]
          },
          "metadata": {
            "tags": []
          },
          "execution_count": 56
        }
      ]
    },
    {
      "cell_type": "markdown",
      "metadata": {
        "id": "QREfRjiFRifE",
        "colab_type": "text"
      },
      "source": [
        "### Tokenize Punctuation\n",
        "We'll be splitting the script into a word array using spaces as delimiters.  However, punctuations like periods and exclamation marks make it hard for the neural network to distinguish between the word \"bye\" and \"bye!\".\n",
        "\n",
        "Implement the function `token_lookup` to return a dict that will be used to tokenize symbols like \"!\" into \"||Exclamation_Mark||\".  Create a dictionary for the following symbols where the symbol is the key and value is the token:\n",
        "- Period ( . )\n",
        "- Comma ( , )\n",
        "- Quotation Mark ( \" )\n",
        "- Semicolon ( ; )\n",
        "- Exclamation mark ( ! )\n",
        "- Question mark ( ? )\n",
        "- Left Parentheses ( ( )\n",
        "- Right Parentheses ( ) )\n",
        "- Dash ( -- )\n",
        "- Return ( \\n )\n",
        "\n",
        "This dictionary will be used to token the symbols and add the delimiter (space) around it.  This separates the symbols as it's own word, making it easier for the neural network to predict on the next word. Make sure you don't use a token that could be confused as a word. Instead of using the token \"dash\", try using something like \"||dash||\"."
      ]
    },
    {
      "cell_type": "code",
      "metadata": {
        "id": "zzFrHnE8RifG",
        "colab_type": "code",
        "colab": {
          "base_uri": "https://localhost:8080/",
          "height": 34
        },
        "outputId": "11fe81a7-5451-4a0f-8e74-8be699ca0fdf"
      },
      "source": [
        "def token_lookup():\n",
        "    \"\"\"\n",
        "    Generate a dict to turn punctuation into a token.\n",
        "    :return: Tokenize dictionary where the key is the punctuation and the value is the token\n",
        "    \"\"\"\n",
        "    # TODO: Implement Function\n",
        "    dictPunctuation={}\n",
        "    dictPunctuation[\".\"]=\" ||period||\"\n",
        "    dictPunctuation[\",\"]=\" ||comma||\"\n",
        "    dictPunctuation['\"']=\" ||Quotation||\"\n",
        "    dictPunctuation[\";\"]=\" ||semicolon||\"\n",
        "    dictPunctuation[\"!\"]=\" ||exclamation||\"\n",
        "    dictPunctuation[\"?\"]=\" ||questionMark||\"\n",
        "    dictPunctuation[\"(\"]=\" ||leftParan||\"\n",
        "    dictPunctuation[\")\"]=\" ||rightParan||\"\n",
        "    dictPunctuation[\"--\"]=\" ||Dash||\"\n",
        "    dictPunctuation[\"\\n\"]=\" ||return||\"\n",
        "    return dictPunctuation\n",
        "\n",
        "\"\"\"\n",
        "DON'T MODIFY ANYTHING IN THIS CELL THAT IS BELOW THIS LINE\n",
        "\"\"\"\n",
        "# tests.test_tokenize(token_lookup)"
      ],
      "execution_count": 57,
      "outputs": [
        {
          "output_type": "execute_result",
          "data": {
            "text/plain": [
              "\"\\nDON'T MODIFY ANYTHING IN THIS CELL THAT IS BELOW THIS LINE\\n\""
            ]
          },
          "metadata": {
            "tags": []
          },
          "execution_count": 57
        }
      ]
    },
    {
      "cell_type": "markdown",
      "metadata": {
        "id": "fcSJqkk3Rifm",
        "colab_type": "text"
      },
      "source": [
        "## Preprocess all the data and save it\n",
        "Running the code cell below will preprocess all the data and save it to file."
      ]
    },
    {
      "cell_type": "code",
      "metadata": {
        "id": "BVJAtHOgRif0",
        "colab_type": "code",
        "colab": {}
      },
      "source": [
        "\"\"\"\n",
        "DON'T MODIFY ANYTHING IN THIS CELL\n",
        "\"\"\"\n",
        "# Preprocess Training, Validation, and Testing Data\n",
        "preprocess_and_save_data(data_dir, token_lookup, create_lookup_tables)"
      ],
      "execution_count": 0,
      "outputs": []
    },
    {
      "cell_type": "markdown",
      "metadata": {
        "id": "aMcoRgtbRigU",
        "colab_type": "text"
      },
      "source": [
        "# Check Point\n",
        "This is your first checkpoint. If you ever decide to come back to this notebook or have to restart the notebook, you can start from here. The preprocessed data has been saved to disk."
      ]
    },
    {
      "cell_type": "code",
      "metadata": {
        "id": "oDvUP28dRigV",
        "colab_type": "code",
        "colab": {}
      },
      "source": [
        "\"\"\"\n",
        "DON'T MODIFY ANYTHING IN THIS CELL\n",
        "\"\"\"\n",
        "# import helper\n",
        "import numpy as np\n",
        "# import problem_unittests as tests\n",
        "\n",
        "int_text, vocab_to_int, int_to_vocab, token_dict = load_preprocess()"
      ],
      "execution_count": 0,
      "outputs": []
    },
    {
      "cell_type": "code",
      "metadata": {
        "id": "zTL-7u4unkXL",
        "colab_type": "code",
        "colab": {
          "base_uri": "https://localhost:8080/",
          "height": 34
        },
        "outputId": "fd8940b0-4aa3-476c-8599-6cc2dd442fa3"
      },
      "source": [
        ""
      ],
      "execution_count": 80,
      "outputs": [
        {
          "output_type": "execute_result",
          "data": {
            "text/plain": [
              "2043"
            ]
          },
          "metadata": {
            "tags": []
          },
          "execution_count": 80
        }
      ]
    },
    {
      "cell_type": "markdown",
      "metadata": {
        "id": "jUNUp_ONRihB",
        "colab_type": "text"
      },
      "source": [
        "## Build the Neural Network\n",
        "You'll build the components necessary to build a RNN by implementing the following functions below:\n",
        "- get_inputs\n",
        "- get_init_cell\n",
        "- get_embed\n",
        "- build_rnn\n",
        "- build_nn\n",
        "- get_batches\n",
        "\n",
        "### Check the Version of TensorFlow and Access to GPU"
      ]
    },
    {
      "cell_type": "code",
      "metadata": {
        "id": "6OqB3d14RihV",
        "colab_type": "code",
        "colab": {
          "base_uri": "https://localhost:8080/",
          "height": 50
        },
        "outputId": "074b899b-28ed-41db-b78c-359b0684bec4"
      },
      "source": [
        "\"\"\"\n",
        "DON'T MODIFY ANYTHING IN THIS CELL\n",
        "\"\"\"\n",
        "from distutils.version import LooseVersion\n",
        "import warnings\n",
        "import tensorflow as tf\n",
        "\n",
        "# Check TensorFlow Version\n",
        "assert LooseVersion(tf.__version__) >= LooseVersion('1.3'), 'Please use TensorFlow version 1.3 or newer'\n",
        "print('TensorFlow Version: {}'.format(tf.__version__))\n",
        "\n",
        "# Check for a GPU\n",
        "if not tf.test.gpu_device_name():\n",
        "    warnings.warn('No GPU found. Please use a GPU to train your neural network.')\n",
        "else:\n",
        "    print('Default GPU Device: {}'.format(tf.test.gpu_device_name()))"
      ],
      "execution_count": 60,
      "outputs": [
        {
          "output_type": "stream",
          "text": [
            "TensorFlow Version: 1.14.0\n",
            "Default GPU Device: /device:GPU:0\n"
          ],
          "name": "stdout"
        }
      ]
    },
    {
      "cell_type": "markdown",
      "metadata": {
        "id": "PjtcSre5Rii_",
        "colab_type": "text"
      },
      "source": [
        "### Input\n",
        "Implement the `get_inputs()` function to create TF Placeholders for the Neural Network.  It should create the following placeholders:\n",
        "- Input text placeholder named \"input\" using the [TF Placeholder](https://www.tensorflow.org/api_docs/python/tf/placeholder) `name` parameter.\n",
        "- Targets placeholder\n",
        "- Learning Rate placeholder\n",
        "\n",
        "Return the placeholders in the following tuple `(Input, Targets, LearningRate)`"
      ]
    },
    {
      "cell_type": "code",
      "metadata": {
        "id": "tiMpsjU6RijC",
        "colab_type": "code",
        "colab": {
          "base_uri": "https://localhost:8080/",
          "height": 34
        },
        "outputId": "1946da37-4359-4869-c66a-817330b4ee1d"
      },
      "source": [
        "def get_inputs():\n",
        "    \"\"\"\n",
        "    Create TF Placeholders for input, targets, and learning rate.\n",
        "    :return: Tuple (input, targets, learning rate)\n",
        "    \"\"\"\n",
        "    # TODO: Implement Function\n",
        "    inputs = tf.placeholder(dtype=tf.int32, shape=[None, None], name=\"input\")\n",
        "    targets = tf.placeholder(dtype=tf.int32, shape=[None, None], name=\"targets\")\n",
        "    learning_rate = tf.placeholder(dtype=tf.float32, shape=[], name=\"learning_rate\")\n",
        "    return inputs,targets,learning_rate\n",
        "\n",
        "\"\"\"\n",
        "DON'T MODIFY ANYTHING IN THIS CELL THAT IS BELOW THIS LINE\n",
        "\"\"\"\n",
        "# tests.test_get_inputs(get_inputs)"
      ],
      "execution_count": 61,
      "outputs": [
        {
          "output_type": "execute_result",
          "data": {
            "text/plain": [
              "\"\\nDON'T MODIFY ANYTHING IN THIS CELL THAT IS BELOW THIS LINE\\n\""
            ]
          },
          "metadata": {
            "tags": []
          },
          "execution_count": 61
        }
      ]
    },
    {
      "cell_type": "markdown",
      "metadata": {
        "id": "VIoykYr0RijK",
        "colab_type": "text"
      },
      "source": [
        "### Build RNN Cell and Initialize\n",
        "Stack one or more [`BasicLSTMCells`](https://www.tensorflow.org/api_docs/python/tf/contrib/rnn/BasicLSTMCell) in a [`MultiRNNCell`](https://www.tensorflow.org/api_docs/python/tf/contrib/rnn/MultiRNNCell).\n",
        "- The Rnn size should be set using `rnn_size`\n",
        "- Initalize Cell State using the MultiRNNCell's [`zero_state()`](https://www.tensorflow.org/api_docs/python/tf/contrib/rnn/MultiRNNCell#zero_state) function\n",
        "    - Apply the name \"initial_state\" to the initial state using [`tf.identity()`](https://www.tensorflow.org/api_docs/python/tf/identity)\n",
        "\n",
        "Return the cell and initial state in the following tuple `(Cell, InitialState)`"
      ]
    },
    {
      "cell_type": "code",
      "metadata": {
        "id": "L2mWjLN-RijM",
        "colab_type": "code",
        "colab": {
          "base_uri": "https://localhost:8080/",
          "height": 34
        },
        "outputId": "4b365e48-90b5-4e44-cb69-bc6d5bc77339"
      },
      "source": [
        "def get_init_cell(batch_size, rnn_size):\n",
        "    \"\"\"\n",
        "    Create an RNN Cell and initialize it.\n",
        "    :param batch_size: Size of batches\n",
        "    :param rnn_size: Size of RNNs\n",
        "    :return: Tuple (cell, initialize state)\n",
        "    \"\"\"\n",
        "    # TODO: Implement Function\n",
        "    num_layers = 2\n",
        "    \n",
        "    def build_cell(rnn_size):\n",
        "        return tf.contrib.rnn.BasicLSTMCell(rnn_size)\n",
        "        \n",
        "    cell = tf.contrib.rnn.MultiRNNCell([build_cell(rnn_size) for _ in range(num_layers)])\n",
        "    initial_state = cell.zero_state(batch_size, tf.float32)\n",
        "    initial_state = tf.identity(initial_state, name= \"initial_state\")\n",
        "    \n",
        "    return cell, initial_state\n",
        "\n",
        "\"\"\"\n",
        "DON'T MODIFY ANYTHING IN THIS CELL THAT IS BELOW THIS LINE\n",
        "\"\"\"\n",
        "# tests.test_get_init_cell(get_init_cell)"
      ],
      "execution_count": 62,
      "outputs": [
        {
          "output_type": "execute_result",
          "data": {
            "text/plain": [
              "\"\\nDON'T MODIFY ANYTHING IN THIS CELL THAT IS BELOW THIS LINE\\n\""
            ]
          },
          "metadata": {
            "tags": []
          },
          "execution_count": 62
        }
      ]
    },
    {
      "cell_type": "markdown",
      "metadata": {
        "id": "6eOcxUrVRijY",
        "colab_type": "text"
      },
      "source": [
        "### Word Embedding\n",
        "Apply embedding to `input_data` using TensorFlow.  Return the embedded sequence."
      ]
    },
    {
      "cell_type": "code",
      "metadata": {
        "id": "198uXRoYRijZ",
        "colab_type": "code",
        "colab": {
          "base_uri": "https://localhost:8080/",
          "height": 34
        },
        "outputId": "4b233d41-0304-4148-8e3e-58989423bbf0"
      },
      "source": [
        "def get_embed(input_data, vocab_size, embed_dim):\n",
        "    \"\"\"\n",
        "    Create embedding for <input_data>.\n",
        "    :param input_data: TF placeholder for text input.\n",
        "    :param vocab_size: Number of words in vocabulary.\n",
        "    :param embed_dim: Number of embedding dimensions\n",
        "    :return: Embedded input.\n",
        "    \"\"\"\n",
        "    # TODO: Implement Function\n",
        "    embedding = tf.Variable(tf.random_uniform([vocab_size, embed_dim], -1., 1.))\n",
        "    embed = tf.nn.embedding_lookup(embedding, input_data)\n",
        "    return embed\n",
        "\n",
        "\n",
        "\"\"\"\n",
        "DON'T MODIFY ANYTHING IN THIS CELL THAT IS BELOW THIS LINE\n",
        "\"\"\"\n",
        "# tests.test_get_embed(get_embed)"
      ],
      "execution_count": 63,
      "outputs": [
        {
          "output_type": "execute_result",
          "data": {
            "text/plain": [
              "\"\\nDON'T MODIFY ANYTHING IN THIS CELL THAT IS BELOW THIS LINE\\n\""
            ]
          },
          "metadata": {
            "tags": []
          },
          "execution_count": 63
        }
      ]
    },
    {
      "cell_type": "markdown",
      "metadata": {
        "id": "82OCIG6NRijg",
        "colab_type": "text"
      },
      "source": [
        "### Build RNN\n",
        "You created a RNN Cell in the `get_init_cell()` function.  Time to use the cell to create a RNN.\n",
        "- Build the RNN using the [`tf.nn.dynamic_rnn()`](https://www.tensorflow.org/api_docs/python/tf/nn/dynamic_rnn)\n",
        " - Apply the name \"final_state\" to the final state using [`tf.identity()`](https://www.tensorflow.org/api_docs/python/tf/identity)\n",
        "\n",
        "Return the outputs and final_state state in the following tuple `(Outputs, FinalState)` "
      ]
    },
    {
      "cell_type": "code",
      "metadata": {
        "id": "07t8ajgCRijq",
        "colab_type": "code",
        "colab": {
          "base_uri": "https://localhost:8080/",
          "height": 34
        },
        "outputId": "da6fe8b5-cb7e-45da-ecf8-f6e1dc0c18ca"
      },
      "source": [
        "def build_rnn(cell, inputs):\n",
        "    \"\"\"\n",
        "    Create a RNN using a RNN Cell\n",
        "    :param cell: RNN Cell\n",
        "    :param inputs: Input text data\n",
        "    :return: Tuple (Outputs, Final State)\n",
        "    \"\"\"\n",
        "    # TODO: Implement Function\n",
        "    outputs, final_state = tf.nn.dynamic_rnn(cell, inputs, dtype=tf.float32)\n",
        "    final_state = tf.identity(final_state, name=\"final_state\")\n",
        "    return outputs, final_state\n",
        "\n",
        "\n",
        "\"\"\"\n",
        "DON'T MODIFY ANYTHING IN THIS CELL THAT IS BELOW THIS LINE\n",
        "\"\"\"\n",
        "# tests.test_build_rnn(build_rnn)"
      ],
      "execution_count": 64,
      "outputs": [
        {
          "output_type": "execute_result",
          "data": {
            "text/plain": [
              "\"\\nDON'T MODIFY ANYTHING IN THIS CELL THAT IS BELOW THIS LINE\\n\""
            ]
          },
          "metadata": {
            "tags": []
          },
          "execution_count": 64
        }
      ]
    },
    {
      "cell_type": "markdown",
      "metadata": {
        "id": "4JVxhmuTRijy",
        "colab_type": "text"
      },
      "source": [
        "### Build the Neural Network\n",
        "Apply the functions you implemented above to:\n",
        "- Apply embedding to `input_data` using your `get_embed(input_data, vocab_size, embed_dim)` function.\n",
        "- Build RNN using `cell` and your `build_rnn(cell, inputs)` function.\n",
        "- Apply a fully connected layer with a linear activation and `vocab_size` as the number of outputs.\n",
        "\n",
        "Return the logits and final state in the following tuple (Logits, FinalState) "
      ]
    },
    {
      "cell_type": "code",
      "metadata": {
        "id": "zd5vJtsBRij9",
        "colab_type": "code",
        "colab": {
          "base_uri": "https://localhost:8080/",
          "height": 34
        },
        "outputId": "14bbc35a-13e4-4d8e-8ede-e2c6359a64f9"
      },
      "source": [
        "def build_nn(cell, rnn_size, input_data, vocab_size, embed_dim):\n",
        "    \"\"\"\n",
        "    Build part of the neural network\n",
        "    :param cell: RNN cell\n",
        "    :param rnn_size: Size of rnns\n",
        "    :param input_data: Input data\n",
        "    :param vocab_size: Vocabulary size\n",
        "    :param embed_dim: Number of embedding dimensions\n",
        "    :return: Tuple (Logits, FinalState)\n",
        "    \"\"\"\n",
        "    # TODO: Implement Function\n",
        "    embed = get_embed(input_data, vocab_size, embed_dim)\n",
        "    rnn_outputs, final_state = build_rnn(cell, embed)\n",
        "    \n",
        "    init_w = tf.contrib.layers.xavier_initializer(uniform=False, seed=None, dtype=tf.float32)\n",
        "    init_b = tf.zeros_initializer(dtype=tf.float32)\n",
        "    logits = tf.contrib.layers.fully_connected(rnn_outputs, vocab_size, activation_fn=None,\n",
        "                                              weights_initializer=init_w, biases_initializer=init_b)\n",
        "    \n",
        "    return logits, final_state\n",
        "\n",
        "\"\"\"\n",
        "DON'T MODIFY ANYTHING IN THIS CELL THAT IS BELOW THIS LINE\n",
        "\"\"\"\n",
        "# tests.test_build_nn(build_nn)"
      ],
      "execution_count": 65,
      "outputs": [
        {
          "output_type": "execute_result",
          "data": {
            "text/plain": [
              "\"\\nDON'T MODIFY ANYTHING IN THIS CELL THAT IS BELOW THIS LINE\\n\""
            ]
          },
          "metadata": {
            "tags": []
          },
          "execution_count": 65
        }
      ]
    },
    {
      "cell_type": "markdown",
      "metadata": {
        "id": "l206xbEkRikH",
        "colab_type": "text"
      },
      "source": [
        "### Batches\n",
        "Implement `get_batches` to create batches of input and targets using `int_text`.  The batches should be a Numpy array with the shape `(number of batches, 2, batch size, sequence length)`. Each batch contains two elements:\n",
        "- The first element is a single batch of **input** with the shape `[batch size, sequence length]`\n",
        "- The second element is a single batch of **targets** with the shape `[batch size, sequence length]`\n",
        "\n",
        "If you can't fill the last batch with enough data, drop the last batch.\n",
        "\n",
        "For example, `get_batches([1, 2, 3, 4, 5, 6, 7, 8, 9, 10, 11, 12, 13, 14, 15, 16, 17, 18, 19, 20], 3, 2)` would return a Numpy array of the following:\n",
        "```\n",
        "[\n",
        "  # First Batch\n",
        "  [\n",
        "    # Batch of Input\n",
        "    [[ 1  2], [ 7  8], [13 14]]\n",
        "    # Batch of targets\n",
        "    [[ 2  3], [ 8  9], [14 15]]\n",
        "  ]\n",
        "\n",
        "  # Second Batch\n",
        "  [\n",
        "    # Batch of Input\n",
        "    [[ 3  4], [ 9 10], [15 16]]\n",
        "    # Batch of targets\n",
        "    [[ 4  5], [10 11], [16 17]]\n",
        "  ]\n",
        "\n",
        "  # Third Batch\n",
        "  [\n",
        "    # Batch of Input\n",
        "    [[ 5  6], [11 12], [17 18]]\n",
        "    # Batch of targets\n",
        "    [[ 6  7], [12 13], [18  1]]\n",
        "  ]\n",
        "]\n",
        "```\n",
        "\n",
        "Notice that the last target value in the last batch is the first input value of the first batch. In this case, `1`. This is a common technique used when creating sequence batches, although it is rather unintuitive."
      ]
    },
    {
      "cell_type": "code",
      "metadata": {
        "id": "1y5vsk6PRikd",
        "colab_type": "code",
        "colab": {
          "base_uri": "https://localhost:8080/",
          "height": 34
        },
        "outputId": "9488b8aa-2048-4f47-b49c-4d655002cefe"
      },
      "source": [
        "def get_batches(int_text, batch_size, seq_length):\n",
        "    \"\"\"\n",
        "    Return batches of input and target\n",
        "    :param int_text: Text with the words replaced by their ids\n",
        "    :param batch_size: The size of batch\n",
        "    :param seq_length: The length of sequence\n",
        "    :return: Batches as a Numpy array\n",
        "    \"\"\"\n",
        "    # TODO: Implement Function\n",
        "    num_batches = len(int_text) // (batch_size * seq_length)\n",
        "    len1 = len(int_text)\n",
        "    \n",
        "    int_text = int_text[: num_batches * batch_size * seq_length]\n",
        "    targets = np.empty_like(int_text)\n",
        "    targets[:-1] = int_text[1:]\n",
        "    targets[-1] = int_text[0]\n",
        "    len2 = len(int_text)\n",
        "    \n",
        "    int_text = np.array(int_text, dtype=np.int32).reshape(batch_size, -1)\n",
        "    targets = targets.reshape(int_text.shape)\n",
        "    \n",
        "    int_text = np.array(np.split(int_text, num_batches, axis=1))\n",
        "    targets = np.array(np.split(targets, num_batches, axis=1))\n",
        "    \n",
        "    batches = np.stack((int_text, targets), axis=1)\n",
        "    #print(\"Shape of \\\"batches\\\" is {}, which works with {} out of {} words.\".format(batches.shape, len2, len1))\n",
        "    \n",
        "    return batches\n",
        "\n",
        "\n",
        "\"\"\"\n",
        "DON'T MODIFY ANYTHING IN THIS CELL THAT IS BELOW THIS LINE\n",
        "\"\"\"\n",
        "# tests.test_get_batches(get_batches)"
      ],
      "execution_count": 66,
      "outputs": [
        {
          "output_type": "execute_result",
          "data": {
            "text/plain": [
              "\"\\nDON'T MODIFY ANYTHING IN THIS CELL THAT IS BELOW THIS LINE\\n\""
            ]
          },
          "metadata": {
            "tags": []
          },
          "execution_count": 66
        }
      ]
    },
    {
      "cell_type": "markdown",
      "metadata": {
        "id": "KadWE6YdRiks",
        "colab_type": "text"
      },
      "source": [
        "## Neural Network Training\n",
        "### Hyperparameters\n",
        "Tune the following parameters:\n",
        "\n",
        "- Set `num_epochs` to the number of epochs.\n",
        "- Set `batch_size` to the batch size.\n",
        "- Set `rnn_size` to the size of the RNNs.\n",
        "- Set `embed_dim` to the size of the embedding.\n",
        "- Set `seq_length` to the length of sequence.\n",
        "- Set `learning_rate` to the learning rate.\n",
        "- Set `show_every_n_batches` to the number of batches the neural network should print progress."
      ]
    },
    {
      "cell_type": "code",
      "metadata": {
        "id": "74slZ63oRikt",
        "colab_type": "code",
        "colab": {}
      },
      "source": [
        "# Number of Epochs\n",
        "# Number of Epochs\n",
        "num_epochs = 50\n",
        "# Batch Size\n",
        "batch_size = 128\n",
        "# RNN Size\n",
        "rnn_size = 512\n",
        "# Embedding Dimension Size\n",
        "embed_dim = 500\n",
        "# Sequence Length\n",
        "seq_length = 19\n",
        "# Learning Rate\n",
        "learning_rate = 0.005\n",
        "# Show stats for every n number of batches\n",
        "show_every_n_batches = 7\n",
        "\n",
        "\"\"\"\n",
        "DON'T MODIFY ANYTHING IN THIS CELL THAT IS BELOW THIS LINE\n",
        "\"\"\"\n",
        "save_dir = './save'"
      ],
      "execution_count": 0,
      "outputs": []
    },
    {
      "cell_type": "markdown",
      "metadata": {
        "id": "aQ1SjB7CRiky",
        "colab_type": "text"
      },
      "source": [
        "### Build the Graph\n",
        "Build the graph using the neural network you implemented."
      ]
    },
    {
      "cell_type": "code",
      "metadata": {
        "id": "RT_-7KUXRik0",
        "colab_type": "code",
        "colab": {
          "base_uri": "https://localhost:8080/",
          "height": 171
        },
        "outputId": "0db8a2e9-3787-4443-ca16-27f20607be52"
      },
      "source": [
        "\"\"\"\n",
        "DON'T MODIFY ANYTHING IN THIS CELL\n",
        "\"\"\"\n",
        "from tensorflow.contrib import seq2seq\n",
        "\n",
        "train_graph = tf.Graph()\n",
        "with train_graph.as_default():\n",
        "    vocab_size = len(int_to_vocab)\n",
        "    input_text, targets, lr = get_inputs()\n",
        "    input_data_shape = tf.shape(input_text)\n",
        "    cell, initial_state = get_init_cell(input_data_shape[0], rnn_size)\n",
        "    logits, final_state = build_nn(cell, rnn_size, input_text, vocab_size, embed_dim)\n",
        "\n",
        "    # Probabilities for generating words\n",
        "    probs = tf.nn.softmax(logits, name='probs')\n",
        "\n",
        "    # Loss function\n",
        "    cost = seq2seq.sequence_loss(\n",
        "        logits,\n",
        "        targets,\n",
        "        tf.ones([input_data_shape[0], input_data_shape[1]]))\n",
        "\n",
        "    # Optimizer\n",
        "    optimizer = tf.train.AdamOptimizer(lr)\n",
        "\n",
        "    # Gradient Clipping\n",
        "    gradients = optimizer.compute_gradients(cost)\n",
        "    capped_gradients = [(tf.clip_by_value(grad, -1., 1.), var) for grad, var in gradients if grad is not None]\n",
        "    train_op = optimizer.apply_gradients(capped_gradients)"
      ],
      "execution_count": 68,
      "outputs": [
        {
          "output_type": "stream",
          "text": [
            "WARNING:tensorflow:Entity <bound method MultiRNNCell.call of <tensorflow.python.ops.rnn_cell_impl.MultiRNNCell object at 0x7f6e1b7c5860>> could not be transformed and will be executed as-is. Please report this to the AutgoGraph team. When filing the bug, set the verbosity to 10 (on Linux, `export AUTOGRAPH_VERBOSITY=10`) and attach the full output. Cause: converting <bound method MultiRNNCell.call of <tensorflow.python.ops.rnn_cell_impl.MultiRNNCell object at 0x7f6e1b7c5860>>: AttributeError: module 'gast' has no attribute 'Num'\n",
            "WARNING: Entity <bound method MultiRNNCell.call of <tensorflow.python.ops.rnn_cell_impl.MultiRNNCell object at 0x7f6e1b7c5860>> could not be transformed and will be executed as-is. Please report this to the AutgoGraph team. When filing the bug, set the verbosity to 10 (on Linux, `export AUTOGRAPH_VERBOSITY=10`) and attach the full output. Cause: converting <bound method MultiRNNCell.call of <tensorflow.python.ops.rnn_cell_impl.MultiRNNCell object at 0x7f6e1b7c5860>>: AttributeError: module 'gast' has no attribute 'Num'\n",
            "WARNING:tensorflow:Entity <bound method BasicLSTMCell.call of <tensorflow.python.ops.rnn_cell_impl.BasicLSTMCell object at 0x7f6e1b7c5908>> could not be transformed and will be executed as-is. Please report this to the AutgoGraph team. When filing the bug, set the verbosity to 10 (on Linux, `export AUTOGRAPH_VERBOSITY=10`) and attach the full output. Cause: converting <bound method BasicLSTMCell.call of <tensorflow.python.ops.rnn_cell_impl.BasicLSTMCell object at 0x7f6e1b7c5908>>: AssertionError: Bad argument number for Name: 3, expecting 4\n",
            "WARNING: Entity <bound method BasicLSTMCell.call of <tensorflow.python.ops.rnn_cell_impl.BasicLSTMCell object at 0x7f6e1b7c5908>> could not be transformed and will be executed as-is. Please report this to the AutgoGraph team. When filing the bug, set the verbosity to 10 (on Linux, `export AUTOGRAPH_VERBOSITY=10`) and attach the full output. Cause: converting <bound method BasicLSTMCell.call of <tensorflow.python.ops.rnn_cell_impl.BasicLSTMCell object at 0x7f6e1b7c5908>>: AssertionError: Bad argument number for Name: 3, expecting 4\n",
            "WARNING:tensorflow:Entity <bound method BasicLSTMCell.call of <tensorflow.python.ops.rnn_cell_impl.BasicLSTMCell object at 0x7f6e1b7c5828>> could not be transformed and will be executed as-is. Please report this to the AutgoGraph team. When filing the bug, set the verbosity to 10 (on Linux, `export AUTOGRAPH_VERBOSITY=10`) and attach the full output. Cause: converting <bound method BasicLSTMCell.call of <tensorflow.python.ops.rnn_cell_impl.BasicLSTMCell object at 0x7f6e1b7c5828>>: AssertionError: Bad argument number for Name: 3, expecting 4\n",
            "WARNING: Entity <bound method BasicLSTMCell.call of <tensorflow.python.ops.rnn_cell_impl.BasicLSTMCell object at 0x7f6e1b7c5828>> could not be transformed and will be executed as-is. Please report this to the AutgoGraph team. When filing the bug, set the verbosity to 10 (on Linux, `export AUTOGRAPH_VERBOSITY=10`) and attach the full output. Cause: converting <bound method BasicLSTMCell.call of <tensorflow.python.ops.rnn_cell_impl.BasicLSTMCell object at 0x7f6e1b7c5828>>: AssertionError: Bad argument number for Name: 3, expecting 4\n",
            "WARNING:tensorflow:Entity <bound method Dense.call of <tensorflow.python.layers.core.Dense object at 0x7f6e1be2da20>> could not be transformed and will be executed as-is. Please report this to the AutgoGraph team. When filing the bug, set the verbosity to 10 (on Linux, `export AUTOGRAPH_VERBOSITY=10`) and attach the full output. Cause: converting <bound method Dense.call of <tensorflow.python.layers.core.Dense object at 0x7f6e1be2da20>>: AssertionError: Bad argument number for Name: 3, expecting 4\n",
            "WARNING: Entity <bound method Dense.call of <tensorflow.python.layers.core.Dense object at 0x7f6e1be2da20>> could not be transformed and will be executed as-is. Please report this to the AutgoGraph team. When filing the bug, set the verbosity to 10 (on Linux, `export AUTOGRAPH_VERBOSITY=10`) and attach the full output. Cause: converting <bound method Dense.call of <tensorflow.python.layers.core.Dense object at 0x7f6e1be2da20>>: AssertionError: Bad argument number for Name: 3, expecting 4\n"
          ],
          "name": "stdout"
        }
      ]
    },
    {
      "cell_type": "markdown",
      "metadata": {
        "id": "svznlG64Rik-",
        "colab_type": "text"
      },
      "source": [
        "## Train\n",
        "Train the neural network on the preprocessed data.  If you have a hard time getting a good loss, check the [forums](https://discussions.udacity.com/) to see if anyone is having the same problem."
      ]
    },
    {
      "cell_type": "code",
      "metadata": {
        "id": "_hK1Fgq-Rik_",
        "colab_type": "code",
        "colab": {
          "base_uri": "https://localhost:8080/",
          "height": 1000
        },
        "outputId": "1facc5e8-a5a7-4c13-bceb-d5ef31b6a5be"
      },
      "source": [
        "\"\"\"\n",
        "DON'T MODIFY ANYTHING IN THIS CELL\n",
        "\"\"\"\n",
        "batches = get_batches(int_text, batch_size, seq_length)\n",
        "\n",
        "with tf.Session(graph=train_graph) as sess:\n",
        "    sess.run(tf.global_variables_initializer())\n",
        "\n",
        "    for epoch_i in range(num_epochs):\n",
        "        state = sess.run(initial_state, {input_text: batches[0][0]})\n",
        "\n",
        "        for batch_i, (x, y) in enumerate(batches):\n",
        "            feed = {\n",
        "                input_text: x,\n",
        "                targets: y,\n",
        "                initial_state: state,\n",
        "                lr: learning_rate}\n",
        "            train_loss, state, _ = sess.run([cost, final_state, train_op], feed)\n",
        "\n",
        "            # Show every <show_every_n_batches> batches\n",
        "            if (epoch_i * len(batches) + batch_i) % show_every_n_batches == 0:\n",
        "                print('Epoch {:>3} Batch {:>4}/{}   train_loss = {:.3f}'.format(\n",
        "                    epoch_i,\n",
        "                    batch_i,\n",
        "                    len(batches),\n",
        "                    train_loss))\n",
        "\n",
        "    # Save Model\n",
        "    saver = tf.train.Saver()\n",
        "    saver.save(sess, save_dir)\n",
        "    print('Model Trained and Saved')"
      ],
      "execution_count": 69,
      "outputs": [
        {
          "output_type": "stream",
          "text": [
            "Epoch   0 Batch    0/96   train_loss = 9.177\n",
            "Epoch   0 Batch    7/96   train_loss = 6.522\n",
            "Epoch   0 Batch   14/96   train_loss = 6.477\n",
            "Epoch   0 Batch   21/96   train_loss = 6.516\n",
            "Epoch   0 Batch   28/96   train_loss = 6.317\n",
            "Epoch   0 Batch   35/96   train_loss = 6.104\n",
            "Epoch   0 Batch   42/96   train_loss = 6.140\n",
            "Epoch   0 Batch   49/96   train_loss = 6.101\n",
            "Epoch   0 Batch   56/96   train_loss = 5.871\n",
            "Epoch   0 Batch   63/96   train_loss = 5.795\n",
            "Epoch   0 Batch   70/96   train_loss = 5.789\n",
            "Epoch   0 Batch   77/96   train_loss = 5.912\n",
            "Epoch   0 Batch   84/96   train_loss = 5.770\n",
            "Epoch   0 Batch   91/96   train_loss = 5.662\n",
            "Epoch   1 Batch    2/96   train_loss = 5.664\n",
            "Epoch   1 Batch    9/96   train_loss = 5.571\n",
            "Epoch   1 Batch   16/96   train_loss = 5.508\n",
            "Epoch   1 Batch   23/96   train_loss = 5.538\n",
            "Epoch   1 Batch   30/96   train_loss = 5.488\n",
            "Epoch   1 Batch   37/96   train_loss = 5.451\n",
            "Epoch   1 Batch   44/96   train_loss = 5.342\n",
            "Epoch   1 Batch   51/96   train_loss = 5.364\n",
            "Epoch   1 Batch   58/96   train_loss = 5.347\n",
            "Epoch   1 Batch   65/96   train_loss = 5.301\n",
            "Epoch   1 Batch   72/96   train_loss = 5.295\n",
            "Epoch   1 Batch   79/96   train_loss = 5.303\n",
            "Epoch   1 Batch   86/96   train_loss = 5.163\n",
            "Epoch   1 Batch   93/96   train_loss = 5.228\n",
            "Epoch   2 Batch    4/96   train_loss = 5.104\n",
            "Epoch   2 Batch   11/96   train_loss = 5.154\n",
            "Epoch   2 Batch   18/96   train_loss = 5.072\n",
            "Epoch   2 Batch   25/96   train_loss = 5.149\n",
            "Epoch   2 Batch   32/96   train_loss = 4.825\n",
            "Epoch   2 Batch   39/96   train_loss = 5.024\n",
            "Epoch   2 Batch   46/96   train_loss = 4.807\n",
            "Epoch   2 Batch   53/96   train_loss = 4.775\n",
            "Epoch   2 Batch   60/96   train_loss = 4.741\n",
            "Epoch   2 Batch   67/96   train_loss = 4.801\n",
            "Epoch   2 Batch   74/96   train_loss = 4.696\n",
            "Epoch   2 Batch   81/96   train_loss = 4.747\n",
            "Epoch   2 Batch   88/96   train_loss = 4.584\n",
            "Epoch   2 Batch   95/96   train_loss = 4.548\n",
            "Epoch   3 Batch    6/96   train_loss = 4.594\n",
            "Epoch   3 Batch   13/96   train_loss = 4.620\n",
            "Epoch   3 Batch   20/96   train_loss = 4.712\n",
            "Epoch   3 Batch   27/96   train_loss = 4.479\n",
            "Epoch   3 Batch   34/96   train_loss = 4.493\n",
            "Epoch   3 Batch   41/96   train_loss = 4.507\n",
            "Epoch   3 Batch   48/96   train_loss = 4.543\n",
            "Epoch   3 Batch   55/96   train_loss = 4.313\n",
            "Epoch   3 Batch   62/96   train_loss = 4.456\n",
            "Epoch   3 Batch   69/96   train_loss = 4.429\n",
            "Epoch   3 Batch   76/96   train_loss = 4.490\n",
            "Epoch   3 Batch   83/96   train_loss = 4.348\n",
            "Epoch   3 Batch   90/96   train_loss = 4.352\n",
            "Epoch   4 Batch    1/96   train_loss = 4.143\n",
            "Epoch   4 Batch    8/96   train_loss = 4.263\n",
            "Epoch   4 Batch   15/96   train_loss = 4.010\n",
            "Epoch   4 Batch   22/96   train_loss = 4.296\n",
            "Epoch   4 Batch   29/96   train_loss = 4.205\n",
            "Epoch   4 Batch   36/96   train_loss = 4.313\n",
            "Epoch   4 Batch   43/96   train_loss = 4.169\n",
            "Epoch   4 Batch   50/96   train_loss = 4.277\n",
            "Epoch   4 Batch   57/96   train_loss = 4.125\n",
            "Epoch   4 Batch   64/96   train_loss = 4.178\n",
            "Epoch   4 Batch   71/96   train_loss = 4.063\n",
            "Epoch   4 Batch   78/96   train_loss = 4.154\n",
            "Epoch   4 Batch   85/96   train_loss = 4.000\n",
            "Epoch   4 Batch   92/96   train_loss = 4.050\n",
            "Epoch   5 Batch    3/96   train_loss = 4.026\n",
            "Epoch   5 Batch   10/96   train_loss = 4.062\n",
            "Epoch   5 Batch   17/96   train_loss = 4.086\n",
            "Epoch   5 Batch   24/96   train_loss = 4.046\n",
            "Epoch   5 Batch   31/96   train_loss = 4.071\n",
            "Epoch   5 Batch   38/96   train_loss = 4.079\n",
            "Epoch   5 Batch   45/96   train_loss = 3.974\n",
            "Epoch   5 Batch   52/96   train_loss = 3.929\n",
            "Epoch   5 Batch   59/96   train_loss = 3.969\n",
            "Epoch   5 Batch   66/96   train_loss = 3.853\n",
            "Epoch   5 Batch   73/96   train_loss = 3.978\n",
            "Epoch   5 Batch   80/96   train_loss = 3.934\n",
            "Epoch   5 Batch   87/96   train_loss = 4.017\n",
            "Epoch   5 Batch   94/96   train_loss = 3.827\n",
            "Epoch   6 Batch    5/96   train_loss = 3.904\n",
            "Epoch   6 Batch   12/96   train_loss = 3.941\n",
            "Epoch   6 Batch   19/96   train_loss = 3.984\n",
            "Epoch   6 Batch   26/96   train_loss = 3.905\n",
            "Epoch   6 Batch   33/96   train_loss = 3.850\n",
            "Epoch   6 Batch   40/96   train_loss = 3.937\n",
            "Epoch   6 Batch   47/96   train_loss = 3.873\n",
            "Epoch   6 Batch   54/96   train_loss = 3.825\n",
            "Epoch   6 Batch   61/96   train_loss = 3.881\n",
            "Epoch   6 Batch   68/96   train_loss = 3.887\n",
            "Epoch   6 Batch   75/96   train_loss = 3.945\n",
            "Epoch   6 Batch   82/96   train_loss = 3.678\n",
            "Epoch   6 Batch   89/96   train_loss = 3.776\n",
            "Epoch   7 Batch    0/96   train_loss = 3.733\n",
            "Epoch   7 Batch    7/96   train_loss = 3.821\n",
            "Epoch   7 Batch   14/96   train_loss = 3.850\n",
            "Epoch   7 Batch   21/96   train_loss = 3.846\n",
            "Epoch   7 Batch   28/96   train_loss = 3.689\n",
            "Epoch   7 Batch   35/96   train_loss = 3.687\n",
            "Epoch   7 Batch   42/96   train_loss = 3.698\n",
            "Epoch   7 Batch   49/96   train_loss = 3.780\n",
            "Epoch   7 Batch   56/96   train_loss = 3.699\n",
            "Epoch   7 Batch   63/96   train_loss = 3.582\n",
            "Epoch   7 Batch   70/96   train_loss = 3.618\n",
            "Epoch   7 Batch   77/96   train_loss = 3.635\n",
            "Epoch   7 Batch   84/96   train_loss = 3.560\n",
            "Epoch   7 Batch   91/96   train_loss = 3.609\n",
            "Epoch   8 Batch    2/96   train_loss = 3.649\n",
            "Epoch   8 Batch    9/96   train_loss = 3.651\n",
            "Epoch   8 Batch   16/96   train_loss = 3.621\n",
            "Epoch   8 Batch   23/96   train_loss = 3.616\n",
            "Epoch   8 Batch   30/96   train_loss = 3.634\n",
            "Epoch   8 Batch   37/96   train_loss = 3.509\n",
            "Epoch   8 Batch   44/96   train_loss = 3.588\n",
            "Epoch   8 Batch   51/96   train_loss = 3.531\n",
            "Epoch   8 Batch   58/96   train_loss = 3.571\n",
            "Epoch   8 Batch   65/96   train_loss = 3.489\n",
            "Epoch   8 Batch   72/96   train_loss = 3.504\n",
            "Epoch   8 Batch   79/96   train_loss = 3.528\n",
            "Epoch   8 Batch   86/96   train_loss = 3.427\n",
            "Epoch   8 Batch   93/96   train_loss = 3.440\n",
            "Epoch   9 Batch    4/96   train_loss = 3.477\n",
            "Epoch   9 Batch   11/96   train_loss = 3.513\n",
            "Epoch   9 Batch   18/96   train_loss = 3.428\n",
            "Epoch   9 Batch   25/96   train_loss = 3.410\n",
            "Epoch   9 Batch   32/96   train_loss = 3.423\n",
            "Epoch   9 Batch   39/96   train_loss = 3.485\n",
            "Epoch   9 Batch   46/96   train_loss = 3.406\n",
            "Epoch   9 Batch   53/96   train_loss = 3.458\n",
            "Epoch   9 Batch   60/96   train_loss = 3.414\n",
            "Epoch   9 Batch   67/96   train_loss = 3.399\n",
            "Epoch   9 Batch   74/96   train_loss = 3.333\n",
            "Epoch   9 Batch   81/96   train_loss = 3.370\n",
            "Epoch   9 Batch   88/96   train_loss = 3.315\n",
            "Epoch   9 Batch   95/96   train_loss = 3.324\n",
            "Epoch  10 Batch    6/96   train_loss = 3.369\n",
            "Epoch  10 Batch   13/96   train_loss = 3.354\n",
            "Epoch  10 Batch   20/96   train_loss = 3.381\n",
            "Epoch  10 Batch   27/96   train_loss = 3.238\n",
            "Epoch  10 Batch   34/96   train_loss = 3.324\n",
            "Epoch  10 Batch   41/96   train_loss = 3.310\n",
            "Epoch  10 Batch   48/96   train_loss = 3.314\n",
            "Epoch  10 Batch   55/96   train_loss = 3.281\n",
            "Epoch  10 Batch   62/96   train_loss = 3.344\n",
            "Epoch  10 Batch   69/96   train_loss = 3.242\n",
            "Epoch  10 Batch   76/96   train_loss = 3.288\n",
            "Epoch  10 Batch   83/96   train_loss = 3.173\n",
            "Epoch  10 Batch   90/96   train_loss = 3.214\n",
            "Epoch  11 Batch    1/96   train_loss = 3.139\n",
            "Epoch  11 Batch    8/96   train_loss = 3.282\n",
            "Epoch  11 Batch   15/96   train_loss = 3.081\n",
            "Epoch  11 Batch   22/96   train_loss = 3.224\n",
            "Epoch  11 Batch   29/96   train_loss = 3.181\n",
            "Epoch  11 Batch   36/96   train_loss = 3.259\n",
            "Epoch  11 Batch   43/96   train_loss = 3.159\n",
            "Epoch  11 Batch   50/96   train_loss = 3.144\n",
            "Epoch  11 Batch   57/96   train_loss = 3.199\n",
            "Epoch  11 Batch   64/96   train_loss = 3.166\n",
            "Epoch  11 Batch   71/96   train_loss = 3.100\n",
            "Epoch  11 Batch   78/96   train_loss = 3.230\n",
            "Epoch  11 Batch   85/96   train_loss = 3.137\n",
            "Epoch  11 Batch   92/96   train_loss = 3.103\n",
            "Epoch  12 Batch    3/96   train_loss = 3.007\n",
            "Epoch  12 Batch   10/96   train_loss = 3.118\n",
            "Epoch  12 Batch   17/96   train_loss = 3.192\n",
            "Epoch  12 Batch   24/96   train_loss = 3.089\n",
            "Epoch  12 Batch   31/96   train_loss = 3.125\n",
            "Epoch  12 Batch   38/96   train_loss = 3.059\n",
            "Epoch  12 Batch   45/96   train_loss = 3.036\n",
            "Epoch  12 Batch   52/96   train_loss = 2.980\n",
            "Epoch  12 Batch   59/96   train_loss = 3.095\n",
            "Epoch  12 Batch   66/96   train_loss = 3.017\n",
            "Epoch  12 Batch   73/96   train_loss = 3.050\n",
            "Epoch  12 Batch   80/96   train_loss = 3.044\n",
            "Epoch  12 Batch   87/96   train_loss = 3.047\n",
            "Epoch  12 Batch   94/96   train_loss = 2.960\n",
            "Epoch  13 Batch    5/96   train_loss = 2.985\n",
            "Epoch  13 Batch   12/96   train_loss = 3.087\n",
            "Epoch  13 Batch   19/96   train_loss = 3.047\n",
            "Epoch  13 Batch   26/96   train_loss = 2.999\n",
            "Epoch  13 Batch   33/96   train_loss = 2.965\n",
            "Epoch  13 Batch   40/96   train_loss = 3.016\n",
            "Epoch  13 Batch   47/96   train_loss = 2.996\n",
            "Epoch  13 Batch   54/96   train_loss = 2.940\n",
            "Epoch  13 Batch   61/96   train_loss = 2.991\n",
            "Epoch  13 Batch   68/96   train_loss = 3.082\n",
            "Epoch  13 Batch   75/96   train_loss = 2.993\n",
            "Epoch  13 Batch   82/96   train_loss = 2.821\n",
            "Epoch  13 Batch   89/96   train_loss = 2.916\n",
            "Epoch  14 Batch    0/96   train_loss = 2.876\n",
            "Epoch  14 Batch    7/96   train_loss = 2.941\n",
            "Epoch  14 Batch   14/96   train_loss = 2.964\n",
            "Epoch  14 Batch   21/96   train_loss = 2.928\n",
            "Epoch  14 Batch   28/96   train_loss = 2.803\n",
            "Epoch  14 Batch   35/96   train_loss = 2.837\n",
            "Epoch  14 Batch   42/96   train_loss = 2.827\n",
            "Epoch  14 Batch   49/96   train_loss = 2.910\n",
            "Epoch  14 Batch   56/96   train_loss = 2.881\n",
            "Epoch  14 Batch   63/96   train_loss = 2.769\n",
            "Epoch  14 Batch   70/96   train_loss = 2.844\n",
            "Epoch  14 Batch   77/96   train_loss = 2.816\n",
            "Epoch  14 Batch   84/96   train_loss = 2.764\n",
            "Epoch  14 Batch   91/96   train_loss = 2.828\n",
            "Epoch  15 Batch    2/96   train_loss = 2.762\n",
            "Epoch  15 Batch    9/96   train_loss = 2.821\n",
            "Epoch  15 Batch   16/96   train_loss = 2.809\n",
            "Epoch  15 Batch   23/96   train_loss = 2.813\n",
            "Epoch  15 Batch   30/96   train_loss = 2.769\n",
            "Epoch  15 Batch   37/96   train_loss = 2.646\n",
            "Epoch  15 Batch   44/96   train_loss = 2.850\n",
            "Epoch  15 Batch   51/96   train_loss = 2.760\n",
            "Epoch  15 Batch   58/96   train_loss = 2.768\n",
            "Epoch  15 Batch   65/96   train_loss = 2.692\n",
            "Epoch  15 Batch   72/96   train_loss = 2.750\n",
            "Epoch  15 Batch   79/96   train_loss = 2.685\n",
            "Epoch  15 Batch   86/96   train_loss = 2.625\n",
            "Epoch  15 Batch   93/96   train_loss = 2.654\n",
            "Epoch  16 Batch    4/96   train_loss = 2.740\n",
            "Epoch  16 Batch   11/96   train_loss = 2.684\n",
            "Epoch  16 Batch   18/96   train_loss = 2.661\n",
            "Epoch  16 Batch   25/96   train_loss = 2.650\n",
            "Epoch  16 Batch   32/96   train_loss = 2.700\n",
            "Epoch  16 Batch   39/96   train_loss = 2.648\n",
            "Epoch  16 Batch   46/96   train_loss = 2.628\n",
            "Epoch  16 Batch   53/96   train_loss = 2.738\n",
            "Epoch  16 Batch   60/96   train_loss = 2.653\n",
            "Epoch  16 Batch   67/96   train_loss = 2.611\n",
            "Epoch  16 Batch   74/96   train_loss = 2.639\n",
            "Epoch  16 Batch   81/96   train_loss = 2.626\n",
            "Epoch  16 Batch   88/96   train_loss = 2.524\n",
            "Epoch  16 Batch   95/96   train_loss = 2.601\n",
            "Epoch  17 Batch    6/96   train_loss = 2.585\n",
            "Epoch  17 Batch   13/96   train_loss = 2.594\n",
            "Epoch  17 Batch   20/96   train_loss = 2.596\n",
            "Epoch  17 Batch   27/96   train_loss = 2.533\n",
            "Epoch  17 Batch   34/96   train_loss = 2.628\n",
            "Epoch  17 Batch   41/96   train_loss = 2.585\n",
            "Epoch  17 Batch   48/96   train_loss = 2.551\n",
            "Epoch  17 Batch   55/96   train_loss = 2.584\n",
            "Epoch  17 Batch   62/96   train_loss = 2.610\n",
            "Epoch  17 Batch   69/96   train_loss = 2.464\n",
            "Epoch  17 Batch   76/96   train_loss = 2.581\n",
            "Epoch  17 Batch   83/96   train_loss = 2.435\n",
            "Epoch  17 Batch   90/96   train_loss = 2.441\n",
            "Epoch  18 Batch    1/96   train_loss = 2.454\n",
            "Epoch  18 Batch    8/96   train_loss = 2.545\n",
            "Epoch  18 Batch   15/96   train_loss = 2.500\n",
            "Epoch  18 Batch   22/96   train_loss = 2.512\n",
            "Epoch  18 Batch   29/96   train_loss = 2.547\n",
            "Epoch  18 Batch   36/96   train_loss = 2.499\n",
            "Epoch  18 Batch   43/96   train_loss = 2.469\n",
            "Epoch  18 Batch   50/96   train_loss = 2.406\n",
            "Epoch  18 Batch   57/96   train_loss = 2.514\n",
            "Epoch  18 Batch   64/96   train_loss = 2.489\n",
            "Epoch  18 Batch   71/96   train_loss = 2.448\n",
            "Epoch  18 Batch   78/96   train_loss = 2.567\n",
            "Epoch  18 Batch   85/96   train_loss = 2.535\n",
            "Epoch  18 Batch   92/96   train_loss = 2.407\n",
            "Epoch  19 Batch    3/96   train_loss = 2.304\n",
            "Epoch  19 Batch   10/96   train_loss = 2.384\n",
            "Epoch  19 Batch   17/96   train_loss = 2.498\n",
            "Epoch  19 Batch   24/96   train_loss = 2.443\n",
            "Epoch  19 Batch   31/96   train_loss = 2.444\n",
            "Epoch  19 Batch   38/96   train_loss = 2.338\n",
            "Epoch  19 Batch   45/96   train_loss = 2.362\n",
            "Epoch  19 Batch   52/96   train_loss = 2.316\n",
            "Epoch  19 Batch   59/96   train_loss = 2.448\n",
            "Epoch  19 Batch   66/96   train_loss = 2.448\n",
            "Epoch  19 Batch   73/96   train_loss = 2.440\n",
            "Epoch  19 Batch   80/96   train_loss = 2.435\n",
            "Epoch  19 Batch   87/96   train_loss = 2.389\n",
            "Epoch  19 Batch   94/96   train_loss = 2.330\n",
            "Epoch  20 Batch    5/96   train_loss = 2.360\n",
            "Epoch  20 Batch   12/96   train_loss = 2.396\n",
            "Epoch  20 Batch   19/96   train_loss = 2.356\n",
            "Epoch  20 Batch   26/96   train_loss = 2.342\n",
            "Epoch  20 Batch   33/96   train_loss = 2.330\n",
            "Epoch  20 Batch   40/96   train_loss = 2.319\n",
            "Epoch  20 Batch   47/96   train_loss = 2.314\n",
            "Epoch  20 Batch   54/96   train_loss = 2.270\n",
            "Epoch  20 Batch   61/96   train_loss = 2.280\n",
            "Epoch  20 Batch   68/96   train_loss = 2.402\n",
            "Epoch  20 Batch   75/96   train_loss = 2.303\n",
            "Epoch  20 Batch   82/96   train_loss = 2.191\n",
            "Epoch  20 Batch   89/96   train_loss = 2.307\n",
            "Epoch  21 Batch    0/96   train_loss = 2.209\n",
            "Epoch  21 Batch    7/96   train_loss = 2.277\n",
            "Epoch  21 Batch   14/96   train_loss = 2.333\n",
            "Epoch  21 Batch   21/96   train_loss = 2.254\n",
            "Epoch  21 Batch   28/96   train_loss = 2.232\n",
            "Epoch  21 Batch   35/96   train_loss = 2.262\n",
            "Epoch  21 Batch   42/96   train_loss = 2.260\n",
            "Epoch  21 Batch   49/96   train_loss = 2.233\n",
            "Epoch  21 Batch   56/96   train_loss = 2.219\n",
            "Epoch  21 Batch   63/96   train_loss = 2.150\n",
            "Epoch  21 Batch   70/96   train_loss = 2.258\n",
            "Epoch  21 Batch   77/96   train_loss = 2.212\n",
            "Epoch  21 Batch   84/96   train_loss = 2.217\n",
            "Epoch  21 Batch   91/96   train_loss = 2.256\n",
            "Epoch  22 Batch    2/96   train_loss = 2.166\n",
            "Epoch  22 Batch    9/96   train_loss = 2.206\n",
            "Epoch  22 Batch   16/96   train_loss = 2.189\n",
            "Epoch  22 Batch   23/96   train_loss = 2.190\n",
            "Epoch  22 Batch   30/96   train_loss = 2.163\n",
            "Epoch  22 Batch   37/96   train_loss = 2.059\n",
            "Epoch  22 Batch   44/96   train_loss = 2.177\n",
            "Epoch  22 Batch   51/96   train_loss = 2.112\n",
            "Epoch  22 Batch   58/96   train_loss = 2.082\n",
            "Epoch  22 Batch   65/96   train_loss = 2.061\n",
            "Epoch  22 Batch   72/96   train_loss = 2.141\n",
            "Epoch  22 Batch   79/96   train_loss = 2.105\n",
            "Epoch  22 Batch   86/96   train_loss = 2.135\n",
            "Epoch  22 Batch   93/96   train_loss = 2.094\n",
            "Epoch  23 Batch    4/96   train_loss = 2.168\n",
            "Epoch  23 Batch   11/96   train_loss = 2.092\n",
            "Epoch  23 Batch   18/96   train_loss = 2.058\n",
            "Epoch  23 Batch   25/96   train_loss = 2.020\n",
            "Epoch  23 Batch   32/96   train_loss = 2.143\n",
            "Epoch  23 Batch   39/96   train_loss = 2.064\n",
            "Epoch  23 Batch   46/96   train_loss = 2.057\n",
            "Epoch  23 Batch   53/96   train_loss = 2.069\n",
            "Epoch  23 Batch   60/96   train_loss = 1.988\n",
            "Epoch  23 Batch   67/96   train_loss = 1.975\n",
            "Epoch  23 Batch   74/96   train_loss = 2.076\n",
            "Epoch  23 Batch   81/96   train_loss = 2.063\n",
            "Epoch  23 Batch   88/96   train_loss = 1.980\n",
            "Epoch  23 Batch   95/96   train_loss = 2.086\n",
            "Epoch  24 Batch    6/96   train_loss = 1.985\n",
            "Epoch  24 Batch   13/96   train_loss = 2.025\n",
            "Epoch  24 Batch   20/96   train_loss = 2.032\n",
            "Epoch  24 Batch   27/96   train_loss = 1.980\n",
            "Epoch  24 Batch   34/96   train_loss = 2.072\n",
            "Epoch  24 Batch   41/96   train_loss = 1.978\n",
            "Epoch  24 Batch   48/96   train_loss = 1.983\n",
            "Epoch  24 Batch   55/96   train_loss = 1.998\n",
            "Epoch  24 Batch   62/96   train_loss = 1.997\n",
            "Epoch  24 Batch   69/96   train_loss = 1.892\n",
            "Epoch  24 Batch   76/96   train_loss = 2.008\n",
            "Epoch  24 Batch   83/96   train_loss = 1.903\n",
            "Epoch  24 Batch   90/96   train_loss = 1.950\n",
            "Epoch  25 Batch    1/96   train_loss = 1.979\n",
            "Epoch  25 Batch    8/96   train_loss = 1.958\n",
            "Epoch  25 Batch   15/96   train_loss = 1.995\n",
            "Epoch  25 Batch   22/96   train_loss = 1.986\n",
            "Epoch  25 Batch   29/96   train_loss = 1.998\n",
            "Epoch  25 Batch   36/96   train_loss = 1.965\n",
            "Epoch  25 Batch   43/96   train_loss = 1.930\n",
            "Epoch  25 Batch   50/96   train_loss = 1.879\n",
            "Epoch  25 Batch   57/96   train_loss = 1.965\n",
            "Epoch  25 Batch   64/96   train_loss = 1.907\n",
            "Epoch  25 Batch   71/96   train_loss = 1.926\n",
            "Epoch  25 Batch   78/96   train_loss = 1.982\n",
            "Epoch  25 Batch   85/96   train_loss = 1.984\n",
            "Epoch  25 Batch   92/96   train_loss = 1.892\n",
            "Epoch  26 Batch    3/96   train_loss = 1.834\n",
            "Epoch  26 Batch   10/96   train_loss = 1.825\n",
            "Epoch  26 Batch   17/96   train_loss = 1.863\n",
            "Epoch  26 Batch   24/96   train_loss = 1.858\n",
            "Epoch  26 Batch   31/96   train_loss = 1.905\n",
            "Epoch  26 Batch   38/96   train_loss = 1.759\n",
            "Epoch  26 Batch   45/96   train_loss = 1.784\n",
            "Epoch  26 Batch   52/96   train_loss = 1.763\n",
            "Epoch  26 Batch   59/96   train_loss = 1.846\n",
            "Epoch  26 Batch   66/96   train_loss = 1.876\n",
            "Epoch  26 Batch   73/96   train_loss = 1.821\n",
            "Epoch  26 Batch   80/96   train_loss = 1.864\n",
            "Epoch  26 Batch   87/96   train_loss = 1.843\n",
            "Epoch  26 Batch   94/96   train_loss = 1.823\n",
            "Epoch  27 Batch    5/96   train_loss = 1.781\n",
            "Epoch  27 Batch   12/96   train_loss = 1.845\n",
            "Epoch  27 Batch   19/96   train_loss = 1.759\n",
            "Epoch  27 Batch   26/96   train_loss = 1.814\n",
            "Epoch  27 Batch   33/96   train_loss = 1.770\n",
            "Epoch  27 Batch   40/96   train_loss = 1.720\n",
            "Epoch  27 Batch   47/96   train_loss = 1.723\n",
            "Epoch  27 Batch   54/96   train_loss = 1.739\n",
            "Epoch  27 Batch   61/96   train_loss = 1.693\n",
            "Epoch  27 Batch   68/96   train_loss = 1.778\n",
            "Epoch  27 Batch   75/96   train_loss = 1.703\n",
            "Epoch  27 Batch   82/96   train_loss = 1.661\n",
            "Epoch  27 Batch   89/96   train_loss = 1.744\n",
            "Epoch  28 Batch    0/96   train_loss = 1.630\n",
            "Epoch  28 Batch    7/96   train_loss = 1.718\n",
            "Epoch  28 Batch   14/96   train_loss = 1.744\n",
            "Epoch  28 Batch   21/96   train_loss = 1.673\n",
            "Epoch  28 Batch   28/96   train_loss = 1.739\n",
            "Epoch  28 Batch   35/96   train_loss = 1.738\n",
            "Epoch  28 Batch   42/96   train_loss = 1.720\n",
            "Epoch  28 Batch   49/96   train_loss = 1.665\n",
            "Epoch  28 Batch   56/96   train_loss = 1.659\n",
            "Epoch  28 Batch   63/96   train_loss = 1.620\n",
            "Epoch  28 Batch   70/96   train_loss = 1.721\n",
            "Epoch  28 Batch   77/96   train_loss = 1.657\n",
            "Epoch  28 Batch   84/96   train_loss = 1.652\n",
            "Epoch  28 Batch   91/96   train_loss = 1.724\n",
            "Epoch  29 Batch    2/96   train_loss = 1.627\n",
            "Epoch  29 Batch    9/96   train_loss = 1.662\n",
            "Epoch  29 Batch   16/96   train_loss = 1.642\n",
            "Epoch  29 Batch   23/96   train_loss = 1.624\n",
            "Epoch  29 Batch   30/96   train_loss = 1.639\n",
            "Epoch  29 Batch   37/96   train_loss = 1.590\n",
            "Epoch  29 Batch   44/96   train_loss = 1.670\n",
            "Epoch  29 Batch   51/96   train_loss = 1.587\n",
            "Epoch  29 Batch   58/96   train_loss = 1.531\n",
            "Epoch  29 Batch   65/96   train_loss = 1.529\n",
            "Epoch  29 Batch   72/96   train_loss = 1.594\n",
            "Epoch  29 Batch   79/96   train_loss = 1.577\n",
            "Epoch  29 Batch   86/96   train_loss = 1.618\n",
            "Epoch  29 Batch   93/96   train_loss = 1.601\n",
            "Epoch  30 Batch    4/96   train_loss = 1.666\n",
            "Epoch  30 Batch   11/96   train_loss = 1.515\n",
            "Epoch  30 Batch   18/96   train_loss = 1.529\n",
            "Epoch  30 Batch   25/96   train_loss = 1.509\n",
            "Epoch  30 Batch   32/96   train_loss = 1.629\n",
            "Epoch  30 Batch   39/96   train_loss = 1.531\n",
            "Epoch  30 Batch   46/96   train_loss = 1.608\n",
            "Epoch  30 Batch   53/96   train_loss = 1.619\n",
            "Epoch  30 Batch   60/96   train_loss = 1.480\n",
            "Epoch  30 Batch   67/96   train_loss = 1.492\n",
            "Epoch  30 Batch   74/96   train_loss = 1.548\n",
            "Epoch  30 Batch   81/96   train_loss = 1.566\n",
            "Epoch  30 Batch   88/96   train_loss = 1.466\n",
            "Epoch  30 Batch   95/96   train_loss = 1.586\n",
            "Epoch  31 Batch    6/96   train_loss = 1.466\n",
            "Epoch  31 Batch   13/96   train_loss = 1.531\n",
            "Epoch  31 Batch   20/96   train_loss = 1.480\n",
            "Epoch  31 Batch   27/96   train_loss = 1.459\n",
            "Epoch  31 Batch   34/96   train_loss = 1.606\n",
            "Epoch  31 Batch   41/96   train_loss = 1.525\n",
            "Epoch  31 Batch   48/96   train_loss = 1.478\n",
            "Epoch  31 Batch   55/96   train_loss = 1.496\n",
            "Epoch  31 Batch   62/96   train_loss = 1.489\n",
            "Epoch  31 Batch   69/96   train_loss = 1.406\n",
            "Epoch  31 Batch   76/96   train_loss = 1.495\n",
            "Epoch  31 Batch   83/96   train_loss = 1.445\n",
            "Epoch  31 Batch   90/96   train_loss = 1.478\n",
            "Epoch  32 Batch    1/96   train_loss = 1.541\n",
            "Epoch  32 Batch    8/96   train_loss = 1.459\n",
            "Epoch  32 Batch   15/96   train_loss = 1.565\n",
            "Epoch  32 Batch   22/96   train_loss = 1.460\n",
            "Epoch  32 Batch   29/96   train_loss = 1.525\n",
            "Epoch  32 Batch   36/96   train_loss = 1.504\n",
            "Epoch  32 Batch   43/96   train_loss = 1.500\n",
            "Epoch  32 Batch   50/96   train_loss = 1.428\n",
            "Epoch  32 Batch   57/96   train_loss = 1.522\n",
            "Epoch  32 Batch   64/96   train_loss = 1.452\n",
            "Epoch  32 Batch   71/96   train_loss = 1.478\n",
            "Epoch  32 Batch   78/96   train_loss = 1.509\n",
            "Epoch  32 Batch   85/96   train_loss = 1.536\n",
            "Epoch  32 Batch   92/96   train_loss = 1.465\n",
            "Epoch  33 Batch    3/96   train_loss = 1.401\n",
            "Epoch  33 Batch   10/96   train_loss = 1.333\n",
            "Epoch  33 Batch   17/96   train_loss = 1.469\n",
            "Epoch  33 Batch   24/96   train_loss = 1.410\n",
            "Epoch  33 Batch   31/96   train_loss = 1.457\n",
            "Epoch  33 Batch   38/96   train_loss = 1.340\n",
            "Epoch  33 Batch   45/96   train_loss = 1.401\n",
            "Epoch  33 Batch   52/96   train_loss = 1.368\n",
            "Epoch  33 Batch   59/96   train_loss = 1.422\n",
            "Epoch  33 Batch   66/96   train_loss = 1.459\n",
            "Epoch  33 Batch   73/96   train_loss = 1.406\n",
            "Epoch  33 Batch   80/96   train_loss = 1.456\n",
            "Epoch  33 Batch   87/96   train_loss = 1.403\n",
            "Epoch  33 Batch   94/96   train_loss = 1.396\n",
            "Epoch  34 Batch    5/96   train_loss = 1.396\n",
            "Epoch  34 Batch   12/96   train_loss = 1.431\n",
            "Epoch  34 Batch   19/96   train_loss = 1.354\n",
            "Epoch  34 Batch   26/96   train_loss = 1.399\n",
            "Epoch  34 Batch   33/96   train_loss = 1.351\n",
            "Epoch  34 Batch   40/96   train_loss = 1.330\n",
            "Epoch  34 Batch   47/96   train_loss = 1.353\n",
            "Epoch  34 Batch   54/96   train_loss = 1.398\n",
            "Epoch  34 Batch   61/96   train_loss = 1.321\n",
            "Epoch  34 Batch   68/96   train_loss = 1.406\n",
            "Epoch  34 Batch   75/96   train_loss = 1.318\n",
            "Epoch  34 Batch   82/96   train_loss = 1.331\n",
            "Epoch  34 Batch   89/96   train_loss = 1.373\n",
            "Epoch  35 Batch    0/96   train_loss = 1.287\n",
            "Epoch  35 Batch    7/96   train_loss = 1.340\n",
            "Epoch  35 Batch   14/96   train_loss = 1.316\n",
            "Epoch  35 Batch   21/96   train_loss = 1.270\n",
            "Epoch  35 Batch   28/96   train_loss = 1.387\n",
            "Epoch  35 Batch   35/96   train_loss = 1.338\n",
            "Epoch  35 Batch   42/96   train_loss = 1.328\n",
            "Epoch  35 Batch   49/96   train_loss = 1.337\n",
            "Epoch  35 Batch   56/96   train_loss = 1.356\n",
            "Epoch  35 Batch   63/96   train_loss = 1.288\n",
            "Epoch  35 Batch   70/96   train_loss = 1.341\n",
            "Epoch  35 Batch   77/96   train_loss = 1.341\n",
            "Epoch  35 Batch   84/96   train_loss = 1.327\n",
            "Epoch  35 Batch   91/96   train_loss = 1.378\n",
            "Epoch  36 Batch    2/96   train_loss = 1.316\n",
            "Epoch  36 Batch    9/96   train_loss = 1.320\n",
            "Epoch  36 Batch   16/96   train_loss = 1.241\n",
            "Epoch  36 Batch   23/96   train_loss = 1.277\n",
            "Epoch  36 Batch   30/96   train_loss = 1.286\n",
            "Epoch  36 Batch   37/96   train_loss = 1.250\n",
            "Epoch  36 Batch   44/96   train_loss = 1.326\n",
            "Epoch  36 Batch   51/96   train_loss = 1.284\n",
            "Epoch  36 Batch   58/96   train_loss = 1.269\n",
            "Epoch  36 Batch   65/96   train_loss = 1.237\n",
            "Epoch  36 Batch   72/96   train_loss = 1.260\n",
            "Epoch  36 Batch   79/96   train_loss = 1.251\n",
            "Epoch  36 Batch   86/96   train_loss = 1.291\n",
            "Epoch  36 Batch   93/96   train_loss = 1.256\n",
            "Epoch  37 Batch    4/96   train_loss = 1.349\n",
            "Epoch  37 Batch   11/96   train_loss = 1.191\n",
            "Epoch  37 Batch   18/96   train_loss = 1.187\n",
            "Epoch  37 Batch   25/96   train_loss = 1.183\n",
            "Epoch  37 Batch   32/96   train_loss = 1.329\n",
            "Epoch  37 Batch   39/96   train_loss = 1.234\n",
            "Epoch  37 Batch   46/96   train_loss = 1.248\n",
            "Epoch  37 Batch   53/96   train_loss = 1.286\n",
            "Epoch  37 Batch   60/96   train_loss = 1.184\n",
            "Epoch  37 Batch   67/96   train_loss = 1.171\n",
            "Epoch  37 Batch   74/96   train_loss = 1.200\n",
            "Epoch  37 Batch   81/96   train_loss = 1.275\n",
            "Epoch  37 Batch   88/96   train_loss = 1.180\n",
            "Epoch  37 Batch   95/96   train_loss = 1.305\n",
            "Epoch  38 Batch    6/96   train_loss = 1.191\n",
            "Epoch  38 Batch   13/96   train_loss = 1.224\n",
            "Epoch  38 Batch   20/96   train_loss = 1.196\n",
            "Epoch  38 Batch   27/96   train_loss = 1.175\n",
            "Epoch  38 Batch   34/96   train_loss = 1.288\n",
            "Epoch  38 Batch   41/96   train_loss = 1.206\n",
            "Epoch  38 Batch   48/96   train_loss = 1.192\n",
            "Epoch  38 Batch   55/96   train_loss = 1.228\n",
            "Epoch  38 Batch   62/96   train_loss = 1.213\n",
            "Epoch  38 Batch   69/96   train_loss = 1.090\n",
            "Epoch  38 Batch   76/96   train_loss = 1.184\n",
            "Epoch  38 Batch   83/96   train_loss = 1.163\n",
            "Epoch  38 Batch   90/96   train_loss = 1.204\n",
            "Epoch  39 Batch    1/96   train_loss = 1.278\n",
            "Epoch  39 Batch    8/96   train_loss = 1.145\n",
            "Epoch  39 Batch   15/96   train_loss = 1.286\n",
            "Epoch  39 Batch   22/96   train_loss = 1.173\n",
            "Epoch  39 Batch   29/96   train_loss = 1.213\n",
            "Epoch  39 Batch   36/96   train_loss = 1.218\n",
            "Epoch  39 Batch   43/96   train_loss = 1.193\n",
            "Epoch  39 Batch   50/96   train_loss = 1.116\n",
            "Epoch  39 Batch   57/96   train_loss = 1.226\n",
            "Epoch  39 Batch   64/96   train_loss = 1.186\n",
            "Epoch  39 Batch   71/96   train_loss = 1.238\n",
            "Epoch  39 Batch   78/96   train_loss = 1.242\n",
            "Epoch  39 Batch   85/96   train_loss = 1.208\n",
            "Epoch  39 Batch   92/96   train_loss = 1.181\n",
            "Epoch  40 Batch    3/96   train_loss = 1.161\n",
            "Epoch  40 Batch   10/96   train_loss = 1.128\n",
            "Epoch  40 Batch   17/96   train_loss = 1.160\n",
            "Epoch  40 Batch   24/96   train_loss = 1.103\n",
            "Epoch  40 Batch   31/96   train_loss = 1.191\n",
            "Epoch  40 Batch   38/96   train_loss = 1.074\n",
            "Epoch  40 Batch   45/96   train_loss = 1.081\n",
            "Epoch  40 Batch   52/96   train_loss = 1.080\n",
            "Epoch  40 Batch   59/96   train_loss = 1.172\n",
            "Epoch  40 Batch   66/96   train_loss = 1.152\n",
            "Epoch  40 Batch   73/96   train_loss = 1.101\n",
            "Epoch  40 Batch   80/96   train_loss = 1.180\n",
            "Epoch  40 Batch   87/96   train_loss = 1.134\n",
            "Epoch  40 Batch   94/96   train_loss = 1.141\n",
            "Epoch  41 Batch    5/96   train_loss = 1.139\n",
            "Epoch  41 Batch   12/96   train_loss = 1.168\n",
            "Epoch  41 Batch   19/96   train_loss = 1.074\n",
            "Epoch  41 Batch   26/96   train_loss = 1.102\n",
            "Epoch  41 Batch   33/96   train_loss = 1.099\n",
            "Epoch  41 Batch   40/96   train_loss = 1.041\n",
            "Epoch  41 Batch   47/96   train_loss = 1.083\n",
            "Epoch  41 Batch   54/96   train_loss = 1.092\n",
            "Epoch  41 Batch   61/96   train_loss = 1.026\n",
            "Epoch  41 Batch   68/96   train_loss = 1.131\n",
            "Epoch  41 Batch   75/96   train_loss = 1.003\n",
            "Epoch  41 Batch   82/96   train_loss = 1.064\n",
            "Epoch  41 Batch   89/96   train_loss = 1.062\n",
            "Epoch  42 Batch    0/96   train_loss = 1.014\n",
            "Epoch  42 Batch    7/96   train_loss = 1.068\n",
            "Epoch  42 Batch   14/96   train_loss = 1.026\n",
            "Epoch  42 Batch   21/96   train_loss = 1.010\n",
            "Epoch  42 Batch   28/96   train_loss = 1.094\n",
            "Epoch  42 Batch   35/96   train_loss = 1.073\n",
            "Epoch  42 Batch   42/96   train_loss = 1.034\n",
            "Epoch  42 Batch   49/96   train_loss = 1.029\n",
            "Epoch  42 Batch   56/96   train_loss = 1.045\n",
            "Epoch  42 Batch   63/96   train_loss = 1.004\n",
            "Epoch  42 Batch   70/96   train_loss = 1.068\n",
            "Epoch  42 Batch   77/96   train_loss = 1.041\n",
            "Epoch  42 Batch   84/96   train_loss = 1.028\n",
            "Epoch  42 Batch   91/96   train_loss = 1.035\n",
            "Epoch  43 Batch    2/96   train_loss = 1.034\n",
            "Epoch  43 Batch    9/96   train_loss = 1.057\n",
            "Epoch  43 Batch   16/96   train_loss = 1.015\n",
            "Epoch  43 Batch   23/96   train_loss = 1.004\n",
            "Epoch  43 Batch   30/96   train_loss = 1.007\n",
            "Epoch  43 Batch   37/96   train_loss = 0.998\n",
            "Epoch  43 Batch   44/96   train_loss = 1.026\n",
            "Epoch  43 Batch   51/96   train_loss = 0.959\n",
            "Epoch  43 Batch   58/96   train_loss = 0.963\n",
            "Epoch  43 Batch   65/96   train_loss = 0.987\n",
            "Epoch  43 Batch   72/96   train_loss = 1.003\n",
            "Epoch  43 Batch   79/96   train_loss = 0.952\n",
            "Epoch  43 Batch   86/96   train_loss = 1.000\n",
            "Epoch  43 Batch   93/96   train_loss = 0.981\n",
            "Epoch  44 Batch    4/96   train_loss = 1.027\n",
            "Epoch  44 Batch   11/96   train_loss = 0.933\n",
            "Epoch  44 Batch   18/96   train_loss = 0.925\n",
            "Epoch  44 Batch   25/96   train_loss = 0.916\n",
            "Epoch  44 Batch   32/96   train_loss = 1.029\n",
            "Epoch  44 Batch   39/96   train_loss = 0.952\n",
            "Epoch  44 Batch   46/96   train_loss = 0.980\n",
            "Epoch  44 Batch   53/96   train_loss = 1.000\n",
            "Epoch  44 Batch   60/96   train_loss = 0.910\n",
            "Epoch  44 Batch   67/96   train_loss = 0.931\n",
            "Epoch  44 Batch   74/96   train_loss = 0.940\n",
            "Epoch  44 Batch   81/96   train_loss = 0.959\n",
            "Epoch  44 Batch   88/96   train_loss = 0.908\n",
            "Epoch  44 Batch   95/96   train_loss = 0.979\n",
            "Epoch  45 Batch    6/96   train_loss = 0.885\n",
            "Epoch  45 Batch   13/96   train_loss = 0.960\n",
            "Epoch  45 Batch   20/96   train_loss = 0.911\n",
            "Epoch  45 Batch   27/96   train_loss = 0.919\n",
            "Epoch  45 Batch   34/96   train_loss = 1.032\n",
            "Epoch  45 Batch   41/96   train_loss = 0.931\n",
            "Epoch  45 Batch   48/96   train_loss = 0.909\n",
            "Epoch  45 Batch   55/96   train_loss = 0.944\n",
            "Epoch  45 Batch   62/96   train_loss = 0.935\n",
            "Epoch  45 Batch   69/96   train_loss = 0.823\n",
            "Epoch  45 Batch   76/96   train_loss = 0.904\n",
            "Epoch  45 Batch   83/96   train_loss = 0.910\n",
            "Epoch  45 Batch   90/96   train_loss = 0.942\n",
            "Epoch  46 Batch    1/96   train_loss = 0.946\n",
            "Epoch  46 Batch    8/96   train_loss = 0.871\n",
            "Epoch  46 Batch   15/96   train_loss = 1.004\n",
            "Epoch  46 Batch   22/96   train_loss = 0.911\n",
            "Epoch  46 Batch   29/96   train_loss = 0.937\n",
            "Epoch  46 Batch   36/96   train_loss = 0.934\n",
            "Epoch  46 Batch   43/96   train_loss = 0.936\n",
            "Epoch  46 Batch   50/96   train_loss = 0.853\n",
            "Epoch  46 Batch   57/96   train_loss = 0.956\n",
            "Epoch  46 Batch   64/96   train_loss = 0.933\n",
            "Epoch  46 Batch   71/96   train_loss = 0.974\n",
            "Epoch  46 Batch   78/96   train_loss = 0.964\n",
            "Epoch  46 Batch   85/96   train_loss = 0.943\n",
            "Epoch  46 Batch   92/96   train_loss = 0.897\n",
            "Epoch  47 Batch    3/96   train_loss = 0.876\n",
            "Epoch  47 Batch   10/96   train_loss = 0.846\n",
            "Epoch  47 Batch   17/96   train_loss = 0.880\n",
            "Epoch  47 Batch   24/96   train_loss = 0.857\n",
            "Epoch  47 Batch   31/96   train_loss = 0.929\n",
            "Epoch  47 Batch   38/96   train_loss = 0.827\n",
            "Epoch  47 Batch   45/96   train_loss = 0.896\n",
            "Epoch  47 Batch   52/96   train_loss = 0.823\n",
            "Epoch  47 Batch   59/96   train_loss = 0.907\n",
            "Epoch  47 Batch   66/96   train_loss = 0.912\n",
            "Epoch  47 Batch   73/96   train_loss = 0.840\n",
            "Epoch  47 Batch   80/96   train_loss = 0.917\n",
            "Epoch  47 Batch   87/96   train_loss = 0.875\n",
            "Epoch  47 Batch   94/96   train_loss = 0.875\n",
            "Epoch  48 Batch    5/96   train_loss = 0.906\n",
            "Epoch  48 Batch   12/96   train_loss = 0.939\n",
            "Epoch  48 Batch   19/96   train_loss = 0.838\n",
            "Epoch  48 Batch   26/96   train_loss = 0.848\n",
            "Epoch  48 Batch   33/96   train_loss = 0.861\n",
            "Epoch  48 Batch   40/96   train_loss = 0.815\n",
            "Epoch  48 Batch   47/96   train_loss = 0.850\n",
            "Epoch  48 Batch   54/96   train_loss = 0.841\n",
            "Epoch  48 Batch   61/96   train_loss = 0.824\n",
            "Epoch  48 Batch   68/96   train_loss = 0.907\n",
            "Epoch  48 Batch   75/96   train_loss = 0.810\n",
            "Epoch  48 Batch   82/96   train_loss = 0.822\n",
            "Epoch  48 Batch   89/96   train_loss = 0.853\n",
            "Epoch  49 Batch    0/96   train_loss = 0.794\n",
            "Epoch  49 Batch    7/96   train_loss = 0.839\n",
            "Epoch  49 Batch   14/96   train_loss = 0.835\n",
            "Epoch  49 Batch   21/96   train_loss = 0.780\n",
            "Epoch  49 Batch   28/96   train_loss = 0.879\n",
            "Epoch  49 Batch   35/96   train_loss = 0.853\n",
            "Epoch  49 Batch   42/96   train_loss = 0.816\n",
            "Epoch  49 Batch   49/96   train_loss = 0.787\n",
            "Epoch  49 Batch   56/96   train_loss = 0.814\n",
            "Epoch  49 Batch   63/96   train_loss = 0.827\n",
            "Epoch  49 Batch   70/96   train_loss = 0.868\n",
            "Epoch  49 Batch   77/96   train_loss = 0.836\n",
            "Epoch  49 Batch   84/96   train_loss = 0.831\n",
            "Epoch  49 Batch   91/96   train_loss = 0.855\n",
            "Model Trained and Saved\n"
          ],
          "name": "stdout"
        }
      ]
    },
    {
      "cell_type": "markdown",
      "metadata": {
        "id": "FhLj_JxTRilL",
        "colab_type": "text"
      },
      "source": [
        "## Save Parameters\n",
        "Save `seq_length` and `save_dir` for generating a new TV script."
      ]
    },
    {
      "cell_type": "code",
      "metadata": {
        "id": "tWTu54lyRilP",
        "colab_type": "code",
        "colab": {}
      },
      "source": [
        "\"\"\"\n",
        "DON'T MODIFY ANYTHING IN THIS CELL\n",
        "\"\"\"\n",
        "# Save parameters for checkpoint\n",
        "pickle.dump((seq_length, save_dir), open('params.p', 'wb'))"
      ],
      "execution_count": 0,
      "outputs": []
    },
    {
      "cell_type": "markdown",
      "metadata": {
        "id": "RBnac31zRilc",
        "colab_type": "text"
      },
      "source": [
        "# Checkpoint"
      ]
    },
    {
      "cell_type": "code",
      "metadata": {
        "id": "89AhwLGURilf",
        "colab_type": "code",
        "colab": {}
      },
      "source": [
        "\"\"\"\n",
        "DON'T MODIFY ANYTHING IN THIS CELL\n",
        "\"\"\"\n",
        "import tensorflow as tf\n",
        "import numpy as np\n",
        "# import helper\n",
        "# import problem_unittests as tests\n",
        "\n",
        "_, vocab_to_int, int_to_vocab, token_dict = load_preprocess()\n",
        "seq_length, load_dir = load_params()"
      ],
      "execution_count": 0,
      "outputs": []
    },
    {
      "cell_type": "markdown",
      "metadata": {
        "id": "RRYIFnuyRilk",
        "colab_type": "text"
      },
      "source": [
        "## Implement Generate Functions\n",
        "### Get Tensors\n",
        "Get tensors from `loaded_graph` using the function [`get_tensor_by_name()`](https://www.tensorflow.org/api_docs/python/tf/Graph#get_tensor_by_name).  Get the tensors using the following names:\n",
        "- \"input:0\"\n",
        "- \"initial_state:0\"\n",
        "- \"final_state:0\"\n",
        "- \"probs:0\"\n",
        "\n",
        "Return the tensors in the following tuple `(InputTensor, InitialStateTensor, FinalStateTensor, ProbsTensor)` "
      ]
    },
    {
      "cell_type": "code",
      "metadata": {
        "id": "r3RNhZJ3Rilm",
        "colab_type": "code",
        "colab": {
          "base_uri": "https://localhost:8080/",
          "height": 34
        },
        "outputId": "66a816e2-ad78-4d9d-8e04-688b94b1cf1d"
      },
      "source": [
        "def get_tensors(loaded_graph):\n",
        "    \"\"\"\n",
        "    Get input, initial state, final state, and probabilities tensor from <loaded_graph>\n",
        "    :param loaded_graph: TensorFlow graph loaded from file\n",
        "    :return: Tuple (InputTensor, InitialStateTensor, FinalStateTensor, ProbsTensor)\n",
        "    \"\"\"\n",
        "    # TODO: Implement Function\n",
        "    input_tensor = loaded_graph.get_tensor_by_name(\"input:0\")\n",
        "    initial_state_tensor = loaded_graph.get_tensor_by_name(\"initial_state:0\")\n",
        "    final_state_tensor = loaded_graph.get_tensor_by_name(\"final_state:0\")\n",
        "    probs_tensor = loaded_graph.get_tensor_by_name(\"probs:0\")\n",
        "    \n",
        "    return input_tensor, initial_state_tensor, final_state_tensor, probs_tensor\n",
        "\n",
        "\"\"\"\n",
        "DON'T MODIFY ANYTHING IN THIS CELL THAT IS BELOW THIS LINE\n",
        "\"\"\"\n",
        "# tests.test_get_tensors(get_tensors)"
      ],
      "execution_count": 72,
      "outputs": [
        {
          "output_type": "execute_result",
          "data": {
            "text/plain": [
              "\"\\nDON'T MODIFY ANYTHING IN THIS CELL THAT IS BELOW THIS LINE\\n\""
            ]
          },
          "metadata": {
            "tags": []
          },
          "execution_count": 72
        }
      ]
    },
    {
      "cell_type": "markdown",
      "metadata": {
        "id": "iL-Z4LQNRilx",
        "colab_type": "text"
      },
      "source": [
        "### Choose Word\n",
        "Implement the `pick_word()` function to select the next word using `probabilities`."
      ]
    },
    {
      "cell_type": "code",
      "metadata": {
        "id": "Csr4y1W1Ril2",
        "colab_type": "code",
        "colab": {
          "base_uri": "https://localhost:8080/",
          "height": 34
        },
        "outputId": "30be2339-86ca-4254-887f-65a0ea77af0b"
      },
      "source": [
        "def pick_word(probabilities, int_to_vocab):\n",
        "    \"\"\"\n",
        "    Pick the next word in the generated text\n",
        "    :param probabilities: Probabilites of the next word\n",
        "    :param int_to_vocab: Dictionary of word ids as the keys and words as the values\n",
        "    :return: String of the predicted word\n",
        "    \"\"\"\n",
        "    # TODO: Implement Function\n",
        "    #word = int_to_vocab[np.argmax(probabilities)]  # We shouldn't use this, to avoid loops of the same words.\n",
        "    word = int_to_vocab[np.random.choice(len(probabilities), p=probabilities)]  # This should be used; this was submitted.\n",
        "    return word\n",
        "\n",
        "\n",
        "\"\"\"\n",
        "DON'T MODIFY ANYTHING IN THIS CELL THAT IS BELOW THIS LINE\n",
        "\"\"\"\n",
        "# tests.test_pick_word(pick_word)"
      ],
      "execution_count": 73,
      "outputs": [
        {
          "output_type": "execute_result",
          "data": {
            "text/plain": [
              "\"\\nDON'T MODIFY ANYTHING IN THIS CELL THAT IS BELOW THIS LINE\\n\""
            ]
          },
          "metadata": {
            "tags": []
          },
          "execution_count": 73
        }
      ]
    },
    {
      "cell_type": "markdown",
      "metadata": {
        "id": "OKcDCnLhRil_",
        "colab_type": "text"
      },
      "source": [
        "## Generate TV Script\n",
        "This will generate the TV script for you.  Set `gen_length` to the length of TV script you want to generate."
      ]
    },
    {
      "cell_type": "code",
      "metadata": {
        "id": "n3OyHtodoGiS",
        "colab_type": "code",
        "colab": {
          "base_uri": "https://localhost:8080/",
          "height": 34
        },
        "outputId": "f6da1863-02be-44c5-960e-094dd56d5fe4"
      },
      "source": [
        "vocab_to_int['charlie']"
      ],
      "execution_count": 93,
      "outputs": [
        {
          "output_type": "execute_result",
          "data": {
            "text/plain": [
              "36"
            ]
          },
          "metadata": {
            "tags": []
          },
          "execution_count": 93
        }
      ]
    },
    {
      "cell_type": "code",
      "metadata": {
        "id": "3LMeS8ZzRimB",
        "colab_type": "code",
        "colab": {
          "base_uri": "https://localhost:8080/",
          "height": 403
        },
        "outputId": "eedbb6f5-c208-4a59-b149-b5b8308c92b7"
      },
      "source": [
        "gen_length = 200\n",
        "# starting word for text generation\n",
        "prime_word = 'charlie'\n",
        "\n",
        "\"\"\"\n",
        "DON'T MODIFY ANYTHING IN THIS CELL THAT IS BELOW THIS LINE\n",
        "\"\"\"\n",
        "loaded_graph = tf.Graph()\n",
        "with tf.Session(graph=loaded_graph) as sess:\n",
        "    # Load saved model\n",
        "    loader = tf.train.import_meta_graph(load_dir + '.meta')\n",
        "    loader.restore(sess, load_dir)\n",
        "\n",
        "    # Get Tensors from loaded model\n",
        "    input_text, initial_state, final_state, probs = get_tensors(loaded_graph)\n",
        "\n",
        "    # Sentences generation setup\n",
        "    gen_sentences = [prime_word]\n",
        "    prev_state = sess.run(initial_state, {input_text: np.array([[1]])})\n",
        "\n",
        "    # Generate sentences\n",
        "    for n in range(gen_length):\n",
        "        # Dynamic Input\n",
        "        dyn_input = [[vocab_to_int[word] for word in gen_sentences[-seq_length:]]]\n",
        "        dyn_seq_length = len(dyn_input[0])\n",
        "\n",
        "        # Get Prediction\n",
        "        probabilities, prev_state = sess.run(\n",
        "            [probs, final_state],\n",
        "            {input_text: dyn_input, initial_state: prev_state})\n",
        "        \n",
        "        pred_word = pick_word(probabilities[0][dyn_seq_length-1], int_to_vocab)\n",
        "        gen_sentences.append(pred_word)\n",
        "    \n",
        "    # Remove tokens\n",
        "#         ending = ' ' if key in ['\\n', '(', '\"'] else ''\n",
        "#         tv_script = tv_script.replace(' ' + token.lower(), key)\n",
        "    tv_script = ' '.join(gen_sentences)\n",
        "#     print(\"the lookups are \")\n",
        "#     print(\"the script is \\n\",tv_script)\n",
        "# dont know why loop is not working\n",
        "#     for key, token in token_dict.items():\n",
        "#       print(key,token.lower())\n",
        "      \n",
        "#       tv_script=tv_script.replace(\" \"+token.lower()+\" \",str(key)+\" \")\n",
        "     \n",
        "#     tv_script = tv_script.replace('\\n ', '\\n')\n",
        "#     tv_script = tv_script.replace('( ', '(')\n",
        "    tv_script=tv_script.replace(\"||period||\",\".\")\n",
        "    tv_script=tv_script.replace(\"||comma||\",\",\")\n",
        "    tv_script=tv_script.replace(\"||quotation||\",\"'\")\n",
        "    tv_script=tv_script.replace(\"||semicolon|\",\";\")\n",
        "    tv_script=tv_script.replace(\"||exclamation||\",\"!\")\n",
        "    tv_script=tv_script.replace(\"||questionmark||\",\"?\")\n",
        "    tv_script=tv_script.replace(\"||leftparan||\",\"(\")\n",
        "    tv_script=tv_script.replace(\"||rightparan||\",\")\")\n",
        "    tv_script=tv_script.replace(\"||dash||\",\"--\")\n",
        "    tv_script=tv_script.replace(\"||return||\",\"\\n\")\n",
        "    \n",
        "    print(tv_script)"
      ],
      "execution_count": 96,
      "outputs": [
        {
          "output_type": "stream",
          "text": [
            "INFO:tensorflow:Restoring parameters from ./save\n",
            "charlie . \n",
            " hi , i'm not saying i hate you . \n",
            " it's just nobody's taken this conversation . \n",
            " it's terrible . \n",
            " - you just give me a hug ? - sure . \n",
            " - you see now . \n",
            " - come on , don't get the taste thermostat . \n",
            " - in my house ? - that turned out some of the guys he'd do it . \n",
            " polo . \n",
            " look , you get her . \n",
            " - but - oh , god . \n",
            " oh , do you smell any to have to get ? - no . \n",
            " - whose daughter are you asking another card ? - you have no idea . \n",
            " - how can i like my point ? okay , charlie . \n",
            " seek from moving on . \n",
            " i probably want to make sure that i work out with her . \n",
            " - you're welcome . \n",
            " - okay . \n",
            " i mean , i don't have any , no . \n",
            " it's part of the garlic action , will you as women pay for class . \n",
            " - you have to be a good father . \n",
            " i'm\n"
          ],
          "name": "stdout"
        }
      ]
    },
    {
      "cell_type": "code",
      "metadata": {
        "id": "w6o-9BGteHHo",
        "colab_type": "code",
        "colab": {}
      },
      "source": [
        "tv_script\n",
        "tv_script=tv_script.replace(\" \"+\"||period||\"+\" \",\". \")\n",
        "tv_script"
      ],
      "execution_count": 0,
      "outputs": []
    },
    {
      "cell_type": "markdown",
      "metadata": {
        "id": "dGrVj2siRimF",
        "colab_type": "text"
      },
      "source": [
        "# The TV Script is Nonsensical\n",
        "It's ok if the TV script doesn't make any sense.  We trained on less than a megabyte of text.  In order to get good results, you'll have to use a smaller vocabulary or get more data.  Luckily there's more data!  As we mentioned in the beggining of this project, this is a subset of [another dataset](https://www.kaggle.com/wcukierski/the-simpsons-by-the-data).  We didn't have you train on all the data, because that would take too long.  However, you are free to train your neural network on all the data.  After you complete the project, of course.\n",
        "# Submitting This Project\n",
        "When submitting this project, make sure to run all the cells before saving the notebook. Save the notebook file as \"dlnd_tv_script_generation.ipynb\" and save it as a HTML file under \"File\" -> \"Download as\". Include the \"helper.py\" and \"problem_unittests.py\" files in your submission."
      ]
    }
  ]
}